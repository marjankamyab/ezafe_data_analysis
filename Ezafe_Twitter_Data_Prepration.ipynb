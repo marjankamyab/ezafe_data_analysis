{
  "nbformat": 4,
  "nbformat_minor": 0,
  "metadata": {
    "accelerator": "GPU",
    "colab": {
      "name": "Ezafe_Twitter_Data_Prepration.ipynb",
      "provenance": [],
      "collapsed_sections": [],
      "machine_shape": "hm",
      "include_colab_link": true
    },
    "kernelspec": {
      "display_name": "Python 3",
      "name": "python3"
    }
  },
  "cells": [
    {
      "cell_type": "markdown",
      "metadata": {
        "id": "view-in-github",
        "colab_type": "text"
      },
      "source": [
        "<a href=\"https://colab.research.google.com/github/marjankamyab/ezafe_data_analysis/blob/main/Ezafe_Twitter_Data_Prepration.ipynb\" target=\"_parent\"><img src=\"https://colab.research.google.com/assets/colab-badge.svg\" alt=\"Open In Colab\"/></a>"
      ]
    },
    {
      "cell_type": "code",
      "metadata": {
        "colab": {
          "base_uri": "https://localhost:8080/"
        },
        "id": "tGl2z8bwWE7R",
        "outputId": "6ddbbc35-9f65-468d-d5c8-b972aa36b4e7"
      },
      "source": [
        "!nvidia-smi"
      ],
      "execution_count": 1,
      "outputs": [
        {
          "output_type": "stream",
          "text": [
            "Fri Mar 19 11:50:51 2021       \n",
            "+-----------------------------------------------------------------------------+\n",
            "| NVIDIA-SMI 460.56       Driver Version: 460.32.03    CUDA Version: 11.2     |\n",
            "|-------------------------------+----------------------+----------------------+\n",
            "| GPU  Name        Persistence-M| Bus-Id        Disp.A | Volatile Uncorr. ECC |\n",
            "| Fan  Temp  Perf  Pwr:Usage/Cap|         Memory-Usage | GPU-Util  Compute M. |\n",
            "|                               |                      |               MIG M. |\n",
            "|===============================+======================+======================|\n",
            "|   0  Tesla P100-PCIE...  Off  | 00000000:00:04.0 Off |                    0 |\n",
            "| N/A   34C    P0    26W / 250W |      0MiB / 16280MiB |      0%      Default |\n",
            "|                               |                      |                  N/A |\n",
            "+-------------------------------+----------------------+----------------------+\n",
            "                                                                               \n",
            "+-----------------------------------------------------------------------------+\n",
            "| Processes:                                                                  |\n",
            "|  GPU   GI   CI        PID   Type   Process name                  GPU Memory |\n",
            "|        ID   ID                                                   Usage      |\n",
            "|=============================================================================|\n",
            "|  No running processes found                                                 |\n",
            "+-----------------------------------------------------------------------------+\n"
          ],
          "name": "stdout"
        }
      ]
    },
    {
      "cell_type": "markdown",
      "metadata": {
        "id": "dWy9hDOkts-a"
      },
      "source": [
        "#Get Started with LSCP\n",
        "LSCP: Enhanced Large Scale Colloquial Persian Language Understanding <br>\n",
        "\n",
        "<img src=\"https://www.researchgate.net/publication/339945878/figure/fig1/AS:869541483663360@1584326253493/A-sample-of-the-extracted-sentence-with-dependency-relations-in-syntactic-annotation.png\" alt=\"A sample of the extracted sentence with dependency relations in syntactic annotation, part-of-speech tags, sentiment polarity and translations.\" align=\"right\" style=\"width:15%; padding:4em;\">\n",
        "\n",
        "Learn more about this study at https://iasbs.ac.ir/~ansari/lscp/ <br>\n",
        "\n",
        "> LSCP is hierarchically organized in asemantic taxonomy that focuses on multi-task informal Persian language understanding as a comprehensive problem. This encompasses the recognition of multiple semantic aspects in the human-level sentences, which naturally captures from the real-world sentences. The LSCP has 120M sentences from 27M casual Persian tweets with its derivation tree, part-of-speech tags, sentiment polarity and translations in English, German, Czech, Italian and Hindi spoken languages.\n",
        "\n",
        "### Bibtex\n",
        "\n",
        "<pre style=\"font-size:12px;\">@InProceedings{abdikhojasteh:2020:LREC,<br>  author    = {Abdi Khojasteh, Hadi  and  Ansari, Ebrahim  and  Bohlouli, Mahdi},<br>  title     = {LSCP: Enhanced Large Scale Colloquial Persian Language Understanding},<br>  booktitle = {Proceedings of The 12th Language Resources and Evaluation Conference},<br>  month     = {May},<br>  year      = {2020},<br>  address   = {Marseille, France},<br>  publisher = {European Language Resources Association},<br>  pages     = {6323--6327},<br>  url       = {https://www.aclweb.org/anthology/2020.lrec-1.776}<br>}</pre>\n",
        "\n",
        "<pre style=\"font-size:12px;\">@misc{11234/1-3195,<br>  title  = {Large-Scale Colloquial Persian 0.5},<br>  author = {Abdi Khojasteh, Hadi and Ansari, Ebrahim and Bohlouli, Mahdi},<br>  url    = {http://hdl.handle.net/11234/1-3195},<br>  note   = {{LINDAT}/{CLARIAH}-{CZ} digital library at the Institute of Formal and Applied Linguistics ({{\\'U}FAL}), Faculty of Mathematics and Physics, Charles University},<br>  copyright = {Creative Commons - Attribution-{NonCommercial}-{NoDerivatives} 4.0 International ({CC} {BY}-{NC}-{ND} 4.0)},<br>  year   = {2020} }</pre>\n",
        "\n"
      ]
    },
    {
      "cell_type": "code",
      "metadata": {
        "colab": {
          "base_uri": "https://localhost:8080/"
        },
        "id": "wDcPc0-i0Nj0",
        "outputId": "fbc205bf-6ab7-470a-d283-05bb9a6a94b4"
      },
      "source": [
        "from google.colab import drive\n",
        "drive_dir = '/content/drive/My Drive'\n",
        "drive.mount('/content/drive')"
      ],
      "execution_count": 2,
      "outputs": [
        {
          "output_type": "stream",
          "text": [
            "Drive already mounted at /content/drive; to attempt to forcibly remount, call drive.mount(\"/content/drive\", force_remount=True).\n"
          ],
          "name": "stdout"
        }
      ]
    },
    {
      "cell_type": "code",
      "metadata": {
        "id": "MmZ7jE5bcnrR"
      },
      "source": [
        "import os\n",
        "import pandas as pd\n",
        "import regex as re\n",
        "from collections import defaultdict"
      ],
      "execution_count": 3,
      "outputs": []
    },
    {
      "cell_type": "code",
      "metadata": {
        "id": "wILHN26H01aC"
      },
      "source": [
        "output_dir = os.path.join(drive_dir, 'Persian', 'persian_twitter_adjv_1M.csv')\n",
        "overlap_dir = os.path.join(drive_dir, 'Persian', 'persian_twitter_overlap_1M.csv')"
      ],
      "execution_count": 130,
      "outputs": []
    },
    {
      "cell_type": "markdown",
      "metadata": {
        "id": "vMN6PFcbgnN6"
      },
      "source": [
        "## Download and prepare dataset"
      ]
    },
    {
      "cell_type": "code",
      "metadata": {
        "colab": {
          "base_uri": "https://localhost:8080/"
        },
        "id": "CkX3vdwyU4M4",
        "outputId": "a968a41c-b337-44b5-daef-09162462f32f"
      },
      "source": [
        "#Download full corpus from LINDAT repository\n",
        "!curl --remote-name-all https://lindat.mff.cuni.cz/repository/xmlui/bitstream/handle/11234/1-3195{/lscp-0.5-fa-derivation-tree.7z}"
      ],
      "execution_count": 5,
      "outputs": [
        {
          "output_type": "stream",
          "text": [
            "  % Total    % Received % Xferd  Average Speed   Time    Time     Time  Current\n",
            "                                 Dload  Upload   Total   Spent    Left  Speed\n",
            "100  502M  100  502M    0     0  10.1M      0  0:00:49  0:00:49 --:--:-- 11.1M\n"
          ],
          "name": "stdout"
        }
      ]
    },
    {
      "cell_type": "code",
      "metadata": {
        "colab": {
          "base_uri": "https://localhost:8080/"
        },
        "id": "ncdwuo2jVBtj",
        "outputId": "68d641e4-c6d1-40e8-e9c1-3bc9a4ff371b"
      },
      "source": [
        "#Decompress all files\n",
        "!7z -y e \"lscp-0.5-fa-derivation-tree.7z\""
      ],
      "execution_count": 6,
      "outputs": [
        {
          "output_type": "stream",
          "text": [
            "\n",
            "7-Zip [64] 16.02 : Copyright (c) 1999-2016 Igor Pavlov : 2016-05-21\n",
            "p7zip Version 16.02 (locale=en_US.UTF-8,Utf16=on,HugeFiles=on,64 bits,4 CPUs Intel(R) Xeon(R) CPU @ 2.20GHz (406F0),ASM,AES-NI)\n",
            "\n",
            "Scanning the drive for archives:\n",
            "  0M Scan\b\b\b\b\b\b\b\b\b         \b\b\b\b\b\b\b\b\b1 file, 527048817 bytes (503 MiB)\n",
            "\n",
            "Extracting archive: lscp-0.5-fa-derivation-tree.7z\n",
            "--\n",
            "Path = lscp-0.5-fa-derivation-tree.7z\n",
            "Type = 7z\n",
            "Physical Size = 527048817\n",
            "Headers Size = 170\n",
            "Method = LZMA2:24\n",
            "Solid = -\n",
            "Blocks = 1\n",
            "\n",
            "  0%\b\b\b\b    \b\b\b\b  0% - lscp-0.5-fa-derivation-tree.txt\b\b\b\b\b\b\b\b\b\b\b\b\b\b\b\b\b\b\b\b\b\b\b\b\b\b\b\b\b\b\b\b\b\b\b\b\b\b                                      \b\b\b\b\b\b\b\b\b\b\b\b\b\b\b\b\b\b\b\b\b\b\b\b\b\b\b\b\b\b\b\b\b\b\b\b\b\b  1% - lscp-0.5-fa-derivation-tree.txt\b\b\b\b\b\b\b\b\b\b\b\b\b\b\b\b\b\b\b\b\b\b\b\b\b\b\b\b\b\b\b\b\b\b\b\b\b\b                                      \b\b\b\b\b\b\b\b\b\b\b\b\b\b\b\b\b\b\b\b\b\b\b\b\b\b\b\b\b\b\b\b\b\b\b\b\b\b  2% - lscp-0.5-fa-derivation-tree.txt\b\b\b\b\b\b\b\b\b\b\b\b\b\b\b\b\b\b\b\b\b\b\b\b\b\b\b\b\b\b\b\b\b\b\b\b\b\b                                      \b\b\b\b\b\b\b\b\b\b\b\b\b\b\b\b\b\b\b\b\b\b\b\b\b\b\b\b\b\b\b\b\b\b\b\b\b\b  3% - lscp-0.5-fa-derivation-tree.txt\b\b\b\b\b\b\b\b\b\b\b\b\b\b\b\b\b\b\b\b\b\b\b\b\b\b\b\b\b\b\b\b\b\b\b\b\b\b                                      \b\b\b\b\b\b\b\b\b\b\b\b\b\b\b\b\b\b\b\b\b\b\b\b\b\b\b\b\b\b\b\b\b\b\b\b\b\b  4% - lscp-0.5-fa-derivation-tree.txt\b\b\b\b\b\b\b\b\b\b\b\b\b\b\b\b\b\b\b\b\b\b\b\b\b\b\b\b\b\b\b\b\b\b\b\b\b\b                                      \b\b\b\b\b\b\b\b\b\b\b\b\b\b\b\b\b\b\b\b\b\b\b\b\b\b\b\b\b\b\b\b\b\b\b\b\b\b  5% - lscp-0.5-fa-derivation-tree.txt\b\b\b\b\b\b\b\b\b\b\b\b\b\b\b\b\b\b\b\b\b\b\b\b\b\b\b\b\b\b\b\b\b\b\b\b\b\b                                      \b\b\b\b\b\b\b\b\b\b\b\b\b\b\b\b\b\b\b\b\b\b\b\b\b\b\b\b\b\b\b\b\b\b\b\b\b\b  6% - lscp-0.5-fa-derivation-tree.txt\b\b\b\b\b\b\b\b\b\b\b\b\b\b\b\b\b\b\b\b\b\b\b\b\b\b\b\b\b\b\b\b\b\b\b\b\b\b                                      \b\b\b\b\b\b\b\b\b\b\b\b\b\b\b\b\b\b\b\b\b\b\b\b\b\b\b\b\b\b\b\b\b\b\b\b\b\b  7% - lscp-0.5-fa-derivation-tree.txt\b\b\b\b\b\b\b\b\b\b\b\b\b\b\b\b\b\b\b\b\b\b\b\b\b\b\b\b\b\b\b\b\b\b\b\b\b\b                                      \b\b\b\b\b\b\b\b\b\b\b\b\b\b\b\b\b\b\b\b\b\b\b\b\b\b\b\b\b\b\b\b\b\b\b\b\b\b  8% - lscp-0.5-fa-derivation-tree.txt\b\b\b\b\b\b\b\b\b\b\b\b\b\b\b\b\b\b\b\b\b\b\b\b\b\b\b\b\b\b\b\b\b\b\b\b\b\b                                      \b\b\b\b\b\b\b\b\b\b\b\b\b\b\b\b\b\b\b\b\b\b\b\b\b\b\b\b\b\b\b\b\b\b\b\b\b\b  9% - lscp-0.5-fa-derivation-tree.txt\b\b\b\b\b\b\b\b\b\b\b\b\b\b\b\b\b\b\b\b\b\b\b\b\b\b\b\b\b\b\b\b\b\b\b\b\b\b                                      \b\b\b\b\b\b\b\b\b\b\b\b\b\b\b\b\b\b\b\b\b\b\b\b\b\b\b\b\b\b\b\b\b\b\b\b\b\b 10% - lscp-0.5-fa-derivation-tree.txt\b\b\b\b\b\b\b\b\b\b\b\b\b\b\b\b\b\b\b\b\b\b\b\b\b\b\b\b\b\b\b\b\b\b\b\b\b\b                                      \b\b\b\b\b\b\b\b\b\b\b\b\b\b\b\b\b\b\b\b\b\b\b\b\b\b\b\b\b\b\b\b\b\b\b\b\b\b 11% - lscp-0.5-fa-derivation-tree.txt\b\b\b\b\b\b\b\b\b\b\b\b\b\b\b\b\b\b\b\b\b\b\b\b\b\b\b\b\b\b\b\b\b\b\b\b\b\b                                      \b\b\b\b\b\b\b\b\b\b\b\b\b\b\b\b\b\b\b\b\b\b\b\b\b\b\b\b\b\b\b\b\b\b\b\b\b\b 12% - lscp-0.5-fa-derivation-tree.txt\b\b\b\b\b\b\b\b\b\b\b\b\b\b\b\b\b\b\b\b\b\b\b\b\b\b\b\b\b\b\b\b\b\b\b\b\b\b                                      \b\b\b\b\b\b\b\b\b\b\b\b\b\b\b\b\b\b\b\b\b\b\b\b\b\b\b\b\b\b\b\b\b\b\b\b\b\b 13% - lscp-0.5-fa-derivation-tree.txt\b\b\b\b\b\b\b\b\b\b\b\b\b\b\b\b\b\b\b\b\b\b\b\b\b\b\b\b\b\b\b\b\b\b\b\b\b\b                                      \b\b\b\b\b\b\b\b\b\b\b\b\b\b\b\b\b\b\b\b\b\b\b\b\b\b\b\b\b\b\b\b\b\b\b\b\b\b 14% - lscp-0.5-fa-derivation-tree.txt\b\b\b\b\b\b\b\b\b\b\b\b\b\b\b\b\b\b\b\b\b\b\b\b\b\b\b\b\b\b\b\b\b\b\b\b\b\b                                      \b\b\b\b\b\b\b\b\b\b\b\b\b\b\b\b\b\b\b\b\b\b\b\b\b\b\b\b\b\b\b\b\b\b\b\b\b\b 15% - lscp-0.5-fa-derivation-tree.txt\b\b\b\b\b\b\b\b\b\b\b\b\b\b\b\b\b\b\b\b\b\b\b\b\b\b\b\b\b\b\b\b\b\b\b\b\b\b                                      \b\b\b\b\b\b\b\b\b\b\b\b\b\b\b\b\b\b\b\b\b\b\b\b\b\b\b\b\b\b\b\b\b\b\b\b\b\b 16% - lscp-0.5-fa-derivation-tree.txt\b\b\b\b\b\b\b\b\b\b\b\b\b\b\b\b\b\b\b\b\b\b\b\b\b\b\b\b\b\b\b\b\b\b\b\b\b\b                                      \b\b\b\b\b\b\b\b\b\b\b\b\b\b\b\b\b\b\b\b\b\b\b\b\b\b\b\b\b\b\b\b\b\b\b\b\b\b 17% - lscp-0.5-fa-derivation-tree.txt\b\b\b\b\b\b\b\b\b\b\b\b\b\b\b\b\b\b\b\b\b\b\b\b\b\b\b\b\b\b\b\b\b\b\b\b\b\b                                      \b\b\b\b\b\b\b\b\b\b\b\b\b\b\b\b\b\b\b\b\b\b\b\b\b\b\b\b\b\b\b\b\b\b\b\b\b\b 18% - lscp-0.5-fa-derivation-tree.txt\b\b\b\b\b\b\b\b\b\b\b\b\b\b\b\b\b\b\b\b\b\b\b\b\b\b\b\b\b\b\b\b\b\b\b\b\b\b                                      \b\b\b\b\b\b\b\b\b\b\b\b\b\b\b\b\b\b\b\b\b\b\b\b\b\b\b\b\b\b\b\b\b\b\b\b\b\b 19% - lscp-0.5-fa-derivation-tree.txt\b\b\b\b\b\b\b\b\b\b\b\b\b\b\b\b\b\b\b\b\b\b\b\b\b\b\b\b\b\b\b\b\b\b\b\b\b\b                                      \b\b\b\b\b\b\b\b\b\b\b\b\b\b\b\b\b\b\b\b\b\b\b\b\b\b\b\b\b\b\b\b\b\b\b\b\b\b 20% - lscp-0.5-fa-derivation-tree.txt\b\b\b\b\b\b\b\b\b\b\b\b\b\b\b\b\b\b\b\b\b\b\b\b\b\b\b\b\b\b\b\b\b\b\b\b\b\b                                      \b\b\b\b\b\b\b\b\b\b\b\b\b\b\b\b\b\b\b\b\b\b\b\b\b\b\b\b\b\b\b\b\b\b\b\b\b\b 21% - lscp-0.5-fa-derivation-tree.txt\b\b\b\b\b\b\b\b\b\b\b\b\b\b\b\b\b\b\b\b\b\b\b\b\b\b\b\b\b\b\b\b\b\b\b\b\b\b                                      \b\b\b\b\b\b\b\b\b\b\b\b\b\b\b\b\b\b\b\b\b\b\b\b\b\b\b\b\b\b\b\b\b\b\b\b\b\b 22% - lscp-0.5-fa-derivation-tree.txt\b\b\b\b\b\b\b\b\b\b\b\b\b\b\b\b\b\b\b\b\b\b\b\b\b\b\b\b\b\b\b\b\b\b\b\b\b\b                                      \b\b\b\b\b\b\b\b\b\b\b\b\b\b\b\b\b\b\b\b\b\b\b\b\b\b\b\b\b\b\b\b\b\b\b\b\b\b 23% - lscp-0.5-fa-derivation-tree.txt\b\b\b\b\b\b\b\b\b\b\b\b\b\b\b\b\b\b\b\b\b\b\b\b\b\b\b\b\b\b\b\b\b\b\b\b\b\b                                      \b\b\b\b\b\b\b\b\b\b\b\b\b\b\b\b\b\b\b\b\b\b\b\b\b\b\b\b\b\b\b\b\b\b\b\b\b\b 24% - lscp-0.5-fa-derivation-tree.txt\b\b\b\b\b\b\b\b\b\b\b\b\b\b\b\b\b\b\b\b\b\b\b\b\b\b\b\b\b\b\b\b\b\b\b\b\b\b                                      \b\b\b\b\b\b\b\b\b\b\b\b\b\b\b\b\b\b\b\b\b\b\b\b\b\b\b\b\b\b\b\b\b\b\b\b\b\b 25% - lscp-0.5-fa-derivation-tree.txt\b\b\b\b\b\b\b\b\b\b\b\b\b\b\b\b\b\b\b\b\b\b\b\b\b\b\b\b\b\b\b\b\b\b\b\b\b\b                                      \b\b\b\b\b\b\b\b\b\b\b\b\b\b\b\b\b\b\b\b\b\b\b\b\b\b\b\b\b\b\b\b\b\b\b\b\b\b 26% - lscp-0.5-fa-derivation-tree.txt\b\b\b\b\b\b\b\b\b\b\b\b\b\b\b\b\b\b\b\b\b\b\b\b\b\b\b\b\b\b\b\b\b\b\b\b\b\b                                      \b\b\b\b\b\b\b\b\b\b\b\b\b\b\b\b\b\b\b\b\b\b\b\b\b\b\b\b\b\b\b\b\b\b\b\b\b\b 27% - lscp-0.5-fa-derivation-tree.txt\b\b\b\b\b\b\b\b\b\b\b\b\b\b\b\b\b\b\b\b\b\b\b\b\b\b\b\b\b\b\b\b\b\b\b\b\b\b                                      \b\b\b\b\b\b\b\b\b\b\b\b\b\b\b\b\b\b\b\b\b\b\b\b\b\b\b\b\b\b\b\b\b\b\b\b\b\b 28% - lscp-0.5-fa-derivation-tree.txt\b\b\b\b\b\b\b\b\b\b\b\b\b\b\b\b\b\b\b\b\b\b\b\b\b\b\b\b\b\b\b\b\b\b\b\b\b\b                                      \b\b\b\b\b\b\b\b\b\b\b\b\b\b\b\b\b\b\b\b\b\b\b\b\b\b\b\b\b\b\b\b\b\b\b\b\b\b 29% - lscp-0.5-fa-derivation-tree.txt\b\b\b\b\b\b\b\b\b\b\b\b\b\b\b\b\b\b\b\b\b\b\b\b\b\b\b\b\b\b\b\b\b\b\b\b\b\b                                      \b\b\b\b\b\b\b\b\b\b\b\b\b\b\b\b\b\b\b\b\b\b\b\b\b\b\b\b\b\b\b\b\b\b\b\b\b\b 30% - lscp-0.5-fa-derivation-tree.txt\b\b\b\b\b\b\b\b\b\b\b\b\b\b\b\b\b\b\b\b\b\b\b\b\b\b\b\b\b\b\b\b\b\b\b\b\b\b                                      \b\b\b\b\b\b\b\b\b\b\b\b\b\b\b\b\b\b\b\b\b\b\b\b\b\b\b\b\b\b\b\b\b\b\b\b\b\b 31% - lscp-0.5-fa-derivation-tree.txt\b\b\b\b\b\b\b\b\b\b\b\b\b\b\b\b\b\b\b\b\b\b\b\b\b\b\b\b\b\b\b\b\b\b\b\b\b\b                                      \b\b\b\b\b\b\b\b\b\b\b\b\b\b\b\b\b\b\b\b\b\b\b\b\b\b\b\b\b\b\b\b\b\b\b\b\b\b 32% - lscp-0.5-fa-derivation-tree.txt\b\b\b\b\b\b\b\b\b\b\b\b\b\b\b\b\b\b\b\b\b\b\b\b\b\b\b\b\b\b\b\b\b\b\b\b\b\b                                      \b\b\b\b\b\b\b\b\b\b\b\b\b\b\b\b\b\b\b\b\b\b\b\b\b\b\b\b\b\b\b\b\b\b\b\b\b\b 33% - lscp-0.5-fa-derivation-tree.txt\b\b\b\b\b\b\b\b\b\b\b\b\b\b\b\b\b\b\b\b\b\b\b\b\b\b\b\b\b\b\b\b\b\b\b\b\b\b                                      \b\b\b\b\b\b\b\b\b\b\b\b\b\b\b\b\b\b\b\b\b\b\b\b\b\b\b\b\b\b\b\b\b\b\b\b\b\b 34% - lscp-0.5-fa-derivation-tree.txt\b\b\b\b\b\b\b\b\b\b\b\b\b\b\b\b\b\b\b\b\b\b\b\b\b\b\b\b\b\b\b\b\b\b\b\b\b\b                                      \b\b\b\b\b\b\b\b\b\b\b\b\b\b\b\b\b\b\b\b\b\b\b\b\b\b\b\b\b\b\b\b\b\b\b\b\b\b 35% - lscp-0.5-fa-derivation-tree.txt\b\b\b\b\b\b\b\b\b\b\b\b\b\b\b\b\b\b\b\b\b\b\b\b\b\b\b\b\b\b\b\b\b\b\b\b\b\b                                      \b\b\b\b\b\b\b\b\b\b\b\b\b\b\b\b\b\b\b\b\b\b\b\b\b\b\b\b\b\b\b\b\b\b\b\b\b\b 36% - lscp-0.5-fa-derivation-tree.txt\b\b\b\b\b\b\b\b\b\b\b\b\b\b\b\b\b\b\b\b\b\b\b\b\b\b\b\b\b\b\b\b\b\b\b\b\b\b                                      \b\b\b\b\b\b\b\b\b\b\b\b\b\b\b\b\b\b\b\b\b\b\b\b\b\b\b\b\b\b\b\b\b\b\b\b\b\b 37% - lscp-0.5-fa-derivation-tree.txt\b\b\b\b\b\b\b\b\b\b\b\b\b\b\b\b\b\b\b\b\b\b\b\b\b\b\b\b\b\b\b\b\b\b\b\b\b\b                                      \b\b\b\b\b\b\b\b\b\b\b\b\b\b\b\b\b\b\b\b\b\b\b\b\b\b\b\b\b\b\b\b\b\b\b\b\b\b 38% - lscp-0.5-fa-derivation-tree.txt\b\b\b\b\b\b\b\b\b\b\b\b\b\b\b\b\b\b\b\b\b\b\b\b\b\b\b\b\b\b\b\b\b\b\b\b\b\b                                      \b\b\b\b\b\b\b\b\b\b\b\b\b\b\b\b\b\b\b\b\b\b\b\b\b\b\b\b\b\b\b\b\b\b\b\b\b\b 39% - lscp-0.5-fa-derivation-tree.txt\b\b\b\b\b\b\b\b\b\b\b\b\b\b\b\b\b\b\b\b\b\b\b\b\b\b\b\b\b\b\b\b\b\b\b\b\b\b                                      \b\b\b\b\b\b\b\b\b\b\b\b\b\b\b\b\b\b\b\b\b\b\b\b\b\b\b\b\b\b\b\b\b\b\b\b\b\b 40% - lscp-0.5-fa-derivation-tree.txt\b\b\b\b\b\b\b\b\b\b\b\b\b\b\b\b\b\b\b\b\b\b\b\b\b\b\b\b\b\b\b\b\b\b\b\b\b\b                                      \b\b\b\b\b\b\b\b\b\b\b\b\b\b\b\b\b\b\b\b\b\b\b\b\b\b\b\b\b\b\b\b\b\b\b\b\b\b 41% - lscp-0.5-fa-derivation-tree.txt\b\b\b\b\b\b\b\b\b\b\b\b\b\b\b\b\b\b\b\b\b\b\b\b\b\b\b\b\b\b\b\b\b\b\b\b\b\b                                      \b\b\b\b\b\b\b\b\b\b\b\b\b\b\b\b\b\b\b\b\b\b\b\b\b\b\b\b\b\b\b\b\b\b\b\b\b\b 42% - lscp-0.5-fa-derivation-tree.txt\b\b\b\b\b\b\b\b\b\b\b\b\b\b\b\b\b\b\b\b\b\b\b\b\b\b\b\b\b\b\b\b\b\b\b\b\b\b                                      \b\b\b\b\b\b\b\b\b\b\b\b\b\b\b\b\b\b\b\b\b\b\b\b\b\b\b\b\b\b\b\b\b\b\b\b\b\b 43% - lscp-0.5-fa-derivation-tree.txt\b\b\b\b\b\b\b\b\b\b\b\b\b\b\b\b\b\b\b\b\b\b\b\b\b\b\b\b\b\b\b\b\b\b\b\b\b\b                                      \b\b\b\b\b\b\b\b\b\b\b\b\b\b\b\b\b\b\b\b\b\b\b\b\b\b\b\b\b\b\b\b\b\b\b\b\b\b 44% - lscp-0.5-fa-derivation-tree.txt\b\b\b\b\b\b\b\b\b\b\b\b\b\b\b\b\b\b\b\b\b\b\b\b\b\b\b\b\b\b\b\b\b\b\b\b\b\b                                      \b\b\b\b\b\b\b\b\b\b\b\b\b\b\b\b\b\b\b\b\b\b\b\b\b\b\b\b\b\b\b\b\b\b\b\b\b\b 45% - lscp-0.5-fa-derivation-tree.txt\b\b\b\b\b\b\b\b\b\b\b\b\b\b\b\b\b\b\b\b\b\b\b\b\b\b\b\b\b\b\b\b\b\b\b\b\b\b                                      \b\b\b\b\b\b\b\b\b\b\b\b\b\b\b\b\b\b\b\b\b\b\b\b\b\b\b\b\b\b\b\b\b\b\b\b\b\b 46% - lscp-0.5-fa-derivation-tree.txt\b\b\b\b\b\b\b\b\b\b\b\b\b\b\b\b\b\b\b\b\b\b\b\b\b\b\b\b\b\b\b\b\b\b\b\b\b\b                                      \b\b\b\b\b\b\b\b\b\b\b\b\b\b\b\b\b\b\b\b\b\b\b\b\b\b\b\b\b\b\b\b\b\b\b\b\b\b 47% - lscp-0.5-fa-derivation-tree.txt\b\b\b\b\b\b\b\b\b\b\b\b\b\b\b\b\b\b\b\b\b\b\b\b\b\b\b\b\b\b\b\b\b\b\b\b\b\b                                      \b\b\b\b\b\b\b\b\b\b\b\b\b\b\b\b\b\b\b\b\b\b\b\b\b\b\b\b\b\b\b\b\b\b\b\b\b\b 48% - lscp-0.5-fa-derivation-tree.txt\b\b\b\b\b\b\b\b\b\b\b\b\b\b\b\b\b\b\b\b\b\b\b\b\b\b\b\b\b\b\b\b\b\b\b\b\b\b                                      \b\b\b\b\b\b\b\b\b\b\b\b\b\b\b\b\b\b\b\b\b\b\b\b\b\b\b\b\b\b\b\b\b\b\b\b\b\b 49% - lscp-0.5-fa-derivation-tree.txt\b\b\b\b\b\b\b\b\b\b\b\b\b\b\b\b\b\b\b\b\b\b\b\b\b\b\b\b\b\b\b\b\b\b\b\b\b\b                                      \b\b\b\b\b\b\b\b\b\b\b\b\b\b\b\b\b\b\b\b\b\b\b\b\b\b\b\b\b\b\b\b\b\b\b\b\b\b 50% - lscp-0.5-fa-derivation-tree.txt\b\b\b\b\b\b\b\b\b\b\b\b\b\b\b\b\b\b\b\b\b\b\b\b\b\b\b\b\b\b\b\b\b\b\b\b\b\b                                      \b\b\b\b\b\b\b\b\b\b\b\b\b\b\b\b\b\b\b\b\b\b\b\b\b\b\b\b\b\b\b\b\b\b\b\b\b\b 51% - lscp-0.5-fa-derivation-tree.txt\b\b\b\b\b\b\b\b\b\b\b\b\b\b\b\b\b\b\b\b\b\b\b\b\b\b\b\b\b\b\b\b\b\b\b\b\b\b                                      \b\b\b\b\b\b\b\b\b\b\b\b\b\b\b\b\b\b\b\b\b\b\b\b\b\b\b\b\b\b\b\b\b\b\b\b\b\b 52% - lscp-0.5-fa-derivation-tree.txt\b\b\b\b\b\b\b\b\b\b\b\b\b\b\b\b\b\b\b\b\b\b\b\b\b\b\b\b\b\b\b\b\b\b\b\b\b\b                                      \b\b\b\b\b\b\b\b\b\b\b\b\b\b\b\b\b\b\b\b\b\b\b\b\b\b\b\b\b\b\b\b\b\b\b\b\b\b 53% - lscp-0.5-fa-derivation-tree.txt\b\b\b\b\b\b\b\b\b\b\b\b\b\b\b\b\b\b\b\b\b\b\b\b\b\b\b\b\b\b\b\b\b\b\b\b\b\b                                      \b\b\b\b\b\b\b\b\b\b\b\b\b\b\b\b\b\b\b\b\b\b\b\b\b\b\b\b\b\b\b\b\b\b\b\b\b\b 54% - lscp-0.5-fa-derivation-tree.txt\b\b\b\b\b\b\b\b\b\b\b\b\b\b\b\b\b\b\b\b\b\b\b\b\b\b\b\b\b\b\b\b\b\b\b\b\b\b                                      \b\b\b\b\b\b\b\b\b\b\b\b\b\b\b\b\b\b\b\b\b\b\b\b\b\b\b\b\b\b\b\b\b\b\b\b\b\b 55% - lscp-0.5-fa-derivation-tree.txt\b\b\b\b\b\b\b\b\b\b\b\b\b\b\b\b\b\b\b\b\b\b\b\b\b\b\b\b\b\b\b\b\b\b\b\b\b\b                                      \b\b\b\b\b\b\b\b\b\b\b\b\b\b\b\b\b\b\b\b\b\b\b\b\b\b\b\b\b\b\b\b\b\b\b\b\b\b 56% - lscp-0.5-fa-derivation-tree.txt\b\b\b\b\b\b\b\b\b\b\b\b\b\b\b\b\b\b\b\b\b\b\b\b\b\b\b\b\b\b\b\b\b\b\b\b\b\b                                      \b\b\b\b\b\b\b\b\b\b\b\b\b\b\b\b\b\b\b\b\b\b\b\b\b\b\b\b\b\b\b\b\b\b\b\b\b\b 57% - lscp-0.5-fa-derivation-tree.txt\b\b\b\b\b\b\b\b\b\b\b\b\b\b\b\b\b\b\b\b\b\b\b\b\b\b\b\b\b\b\b\b\b\b\b\b\b\b                                      \b\b\b\b\b\b\b\b\b\b\b\b\b\b\b\b\b\b\b\b\b\b\b\b\b\b\b\b\b\b\b\b\b\b\b\b\b\b 58% - lscp-0.5-fa-derivation-tree.txt\b\b\b\b\b\b\b\b\b\b\b\b\b\b\b\b\b\b\b\b\b\b\b\b\b\b\b\b\b\b\b\b\b\b\b\b\b\b                                      \b\b\b\b\b\b\b\b\b\b\b\b\b\b\b\b\b\b\b\b\b\b\b\b\b\b\b\b\b\b\b\b\b\b\b\b\b\b 59% - lscp-0.5-fa-derivation-tree.txt\b\b\b\b\b\b\b\b\b\b\b\b\b\b\b\b\b\b\b\b\b\b\b\b\b\b\b\b\b\b\b\b\b\b\b\b\b\b                                      \b\b\b\b\b\b\b\b\b\b\b\b\b\b\b\b\b\b\b\b\b\b\b\b\b\b\b\b\b\b\b\b\b\b\b\b\b\b 60% - lscp-0.5-fa-derivation-tree.txt\b\b\b\b\b\b\b\b\b\b\b\b\b\b\b\b\b\b\b\b\b\b\b\b\b\b\b\b\b\b\b\b\b\b\b\b\b\b                                      \b\b\b\b\b\b\b\b\b\b\b\b\b\b\b\b\b\b\b\b\b\b\b\b\b\b\b\b\b\b\b\b\b\b\b\b\b\b 61% - lscp-0.5-fa-derivation-tree.txt\b\b\b\b\b\b\b\b\b\b\b\b\b\b\b\b\b\b\b\b\b\b\b\b\b\b\b\b\b\b\b\b\b\b\b\b\b\b                                      \b\b\b\b\b\b\b\b\b\b\b\b\b\b\b\b\b\b\b\b\b\b\b\b\b\b\b\b\b\b\b\b\b\b\b\b\b\b 62% - lscp-0.5-fa-derivation-tree.txt\b\b\b\b\b\b\b\b\b\b\b\b\b\b\b\b\b\b\b\b\b\b\b\b\b\b\b\b\b\b\b\b\b\b\b\b\b\b                                      \b\b\b\b\b\b\b\b\b\b\b\b\b\b\b\b\b\b\b\b\b\b\b\b\b\b\b\b\b\b\b\b\b\b\b\b\b\b 63% - lscp-0.5-fa-derivation-tree.txt\b\b\b\b\b\b\b\b\b\b\b\b\b\b\b\b\b\b\b\b\b\b\b\b\b\b\b\b\b\b\b\b\b\b\b\b\b\b                                      \b\b\b\b\b\b\b\b\b\b\b\b\b\b\b\b\b\b\b\b\b\b\b\b\b\b\b\b\b\b\b\b\b\b\b\b\b\b 64% - lscp-0.5-fa-derivation-tree.txt\b\b\b\b\b\b\b\b\b\b\b\b\b\b\b\b\b\b\b\b\b\b\b\b\b\b\b\b\b\b\b\b\b\b\b\b\b\b                                      \b\b\b\b\b\b\b\b\b\b\b\b\b\b\b\b\b\b\b\b\b\b\b\b\b\b\b\b\b\b\b\b\b\b\b\b\b\b 65% - lscp-0.5-fa-derivation-tree.txt\b\b\b\b\b\b\b\b\b\b\b\b\b\b\b\b\b\b\b\b\b\b\b\b\b\b\b\b\b\b\b\b\b\b\b\b\b\b                                      \b\b\b\b\b\b\b\b\b\b\b\b\b\b\b\b\b\b\b\b\b\b\b\b\b\b\b\b\b\b\b\b\b\b\b\b\b\b 66% - lscp-0.5-fa-derivation-tree.txt\b\b\b\b\b\b\b\b\b\b\b\b\b\b\b\b\b\b\b\b\b\b\b\b\b\b\b\b\b\b\b\b\b\b\b\b\b\b                                      \b\b\b\b\b\b\b\b\b\b\b\b\b\b\b\b\b\b\b\b\b\b\b\b\b\b\b\b\b\b\b\b\b\b\b\b\b\b 67% - lscp-0.5-fa-derivation-tree.txt\b\b\b\b\b\b\b\b\b\b\b\b\b\b\b\b\b\b\b\b\b\b\b\b\b\b\b\b\b\b\b\b\b\b\b\b\b\b                                      \b\b\b\b\b\b\b\b\b\b\b\b\b\b\b\b\b\b\b\b\b\b\b\b\b\b\b\b\b\b\b\b\b\b\b\b\b\b 68% - lscp-0.5-fa-derivation-tree.txt\b\b\b\b\b\b\b\b\b\b\b\b\b\b\b\b\b\b\b\b\b\b\b\b\b\b\b\b\b\b\b\b\b\b\b\b\b\b                                      \b\b\b\b\b\b\b\b\b\b\b\b\b\b\b\b\b\b\b\b\b\b\b\b\b\b\b\b\b\b\b\b\b\b\b\b\b\b 69% - lscp-0.5-fa-derivation-tree.txt\b\b\b\b\b\b\b\b\b\b\b\b\b\b\b\b\b\b\b\b\b\b\b\b\b\b\b\b\b\b\b\b\b\b\b\b\b\b                                      \b\b\b\b\b\b\b\b\b\b\b\b\b\b\b\b\b\b\b\b\b\b\b\b\b\b\b\b\b\b\b\b\b\b\b\b\b\b 70% - lscp-0.5-fa-derivation-tree.txt\b\b\b\b\b\b\b\b\b\b\b\b\b\b\b\b\b\b\b\b\b\b\b\b\b\b\b\b\b\b\b\b\b\b\b\b\b\b                                      \b\b\b\b\b\b\b\b\b\b\b\b\b\b\b\b\b\b\b\b\b\b\b\b\b\b\b\b\b\b\b\b\b\b\b\b\b\b 71% - lscp-0.5-fa-derivation-tree.txt\b\b\b\b\b\b\b\b\b\b\b\b\b\b\b\b\b\b\b\b\b\b\b\b\b\b\b\b\b\b\b\b\b\b\b\b\b\b                                      \b\b\b\b\b\b\b\b\b\b\b\b\b\b\b\b\b\b\b\b\b\b\b\b\b\b\b\b\b\b\b\b\b\b\b\b\b\b 72% - lscp-0.5-fa-derivation-tree.txt\b\b\b\b\b\b\b\b\b\b\b\b\b\b\b\b\b\b\b\b\b\b\b\b\b\b\b\b\b\b\b\b\b\b\b\b\b\b                                      \b\b\b\b\b\b\b\b\b\b\b\b\b\b\b\b\b\b\b\b\b\b\b\b\b\b\b\b\b\b\b\b\b\b\b\b\b\b 73% - lscp-0.5-fa-derivation-tree.txt\b\b\b\b\b\b\b\b\b\b\b\b\b\b\b\b\b\b\b\b\b\b\b\b\b\b\b\b\b\b\b\b\b\b\b\b\b\b                                      \b\b\b\b\b\b\b\b\b\b\b\b\b\b\b\b\b\b\b\b\b\b\b\b\b\b\b\b\b\b\b\b\b\b\b\b\b\b 74% - lscp-0.5-fa-derivation-tree.txt\b\b\b\b\b\b\b\b\b\b\b\b\b\b\b\b\b\b\b\b\b\b\b\b\b\b\b\b\b\b\b\b\b\b\b\b\b\b                                      \b\b\b\b\b\b\b\b\b\b\b\b\b\b\b\b\b\b\b\b\b\b\b\b\b\b\b\b\b\b\b\b\b\b\b\b\b\b 75% - lscp-0.5-fa-derivation-tree.txt\b\b\b\b\b\b\b\b\b\b\b\b\b\b\b\b\b\b\b\b\b\b\b\b\b\b\b\b\b\b\b\b\b\b\b\b\b\b                                      \b\b\b\b\b\b\b\b\b\b\b\b\b\b\b\b\b\b\b\b\b\b\b\b\b\b\b\b\b\b\b\b\b\b\b\b\b\b 76% - lscp-0.5-fa-derivation-tree.txt\b\b\b\b\b\b\b\b\b\b\b\b\b\b\b\b\b\b\b\b\b\b\b\b\b\b\b\b\b\b\b\b\b\b\b\b\b\b                                      \b\b\b\b\b\b\b\b\b\b\b\b\b\b\b\b\b\b\b\b\b\b\b\b\b\b\b\b\b\b\b\b\b\b\b\b\b\b 77% - lscp-0.5-fa-derivation-tree.txt\b\b\b\b\b\b\b\b\b\b\b\b\b\b\b\b\b\b\b\b\b\b\b\b\b\b\b\b\b\b\b\b\b\b\b\b\b\b                                      \b\b\b\b\b\b\b\b\b\b\b\b\b\b\b\b\b\b\b\b\b\b\b\b\b\b\b\b\b\b\b\b\b\b\b\b\b\b 78% - lscp-0.5-fa-derivation-tree.txt\b\b\b\b\b\b\b\b\b\b\b\b\b\b\b\b\b\b\b\b\b\b\b\b\b\b\b\b\b\b\b\b\b\b\b\b\b\b                                      \b\b\b\b\b\b\b\b\b\b\b\b\b\b\b\b\b\b\b\b\b\b\b\b\b\b\b\b\b\b\b\b\b\b\b\b\b\b 79% - lscp-0.5-fa-derivation-tree.txt\b\b\b\b\b\b\b\b\b\b\b\b\b\b\b\b\b\b\b\b\b\b\b\b\b\b\b\b\b\b\b\b\b\b\b\b\b\b                                      \b\b\b\b\b\b\b\b\b\b\b\b\b\b\b\b\b\b\b\b\b\b\b\b\b\b\b\b\b\b\b\b\b\b\b\b\b\b 80% - lscp-0.5-fa-derivation-tree.txt\b\b\b\b\b\b\b\b\b\b\b\b\b\b\b\b\b\b\b\b\b\b\b\b\b\b\b\b\b\b\b\b\b\b\b\b\b\b                                      \b\b\b\b\b\b\b\b\b\b\b\b\b\b\b\b\b\b\b\b\b\b\b\b\b\b\b\b\b\b\b\b\b\b\b\b\b\b 81% - lscp-0.5-fa-derivation-tree.txt\b\b\b\b\b\b\b\b\b\b\b\b\b\b\b\b\b\b\b\b\b\b\b\b\b\b\b\b\b\b\b\b\b\b\b\b\b\b                                      \b\b\b\b\b\b\b\b\b\b\b\b\b\b\b\b\b\b\b\b\b\b\b\b\b\b\b\b\b\b\b\b\b\b\b\b\b\b 82% - lscp-0.5-fa-derivation-tree.txt\b\b\b\b\b\b\b\b\b\b\b\b\b\b\b\b\b\b\b\b\b\b\b\b\b\b\b\b\b\b\b\b\b\b\b\b\b\b                                      \b\b\b\b\b\b\b\b\b\b\b\b\b\b\b\b\b\b\b\b\b\b\b\b\b\b\b\b\b\b\b\b\b\b\b\b\b\b 83% - lscp-0.5-fa-derivation-tree.txt\b\b\b\b\b\b\b\b\b\b\b\b\b\b\b\b\b\b\b\b\b\b\b\b\b\b\b\b\b\b\b\b\b\b\b\b\b\b                                      \b\b\b\b\b\b\b\b\b\b\b\b\b\b\b\b\b\b\b\b\b\b\b\b\b\b\b\b\b\b\b\b\b\b\b\b\b\b 84% - lscp-0.5-fa-derivation-tree.txt\b\b\b\b\b\b\b\b\b\b\b\b\b\b\b\b\b\b\b\b\b\b\b\b\b\b\b\b\b\b\b\b\b\b\b\b\b\b                                      \b\b\b\b\b\b\b\b\b\b\b\b\b\b\b\b\b\b\b\b\b\b\b\b\b\b\b\b\b\b\b\b\b\b\b\b\b\b 85% - lscp-0.5-fa-derivation-tree.txt\b\b\b\b\b\b\b\b\b\b\b\b\b\b\b\b\b\b\b\b\b\b\b\b\b\b\b\b\b\b\b\b\b\b\b\b\b\b                                      \b\b\b\b\b\b\b\b\b\b\b\b\b\b\b\b\b\b\b\b\b\b\b\b\b\b\b\b\b\b\b\b\b\b\b\b\b\b 86% - lscp-0.5-fa-derivation-tree.txt\b\b\b\b\b\b\b\b\b\b\b\b\b\b\b\b\b\b\b\b\b\b\b\b\b\b\b\b\b\b\b\b\b\b\b\b\b\b                                      \b\b\b\b\b\b\b\b\b\b\b\b\b\b\b\b\b\b\b\b\b\b\b\b\b\b\b\b\b\b\b\b\b\b\b\b\b\b 87% - lscp-0.5-fa-derivation-tree.txt\b\b\b\b\b\b\b\b\b\b\b\b\b\b\b\b\b\b\b\b\b\b\b\b\b\b\b\b\b\b\b\b\b\b\b\b\b\b                                      \b\b\b\b\b\b\b\b\b\b\b\b\b\b\b\b\b\b\b\b\b\b\b\b\b\b\b\b\b\b\b\b\b\b\b\b\b\b 88% - lscp-0.5-fa-derivation-tree.txt\b\b\b\b\b\b\b\b\b\b\b\b\b\b\b\b\b\b\b\b\b\b\b\b\b\b\b\b\b\b\b\b\b\b\b\b\b\b                                      \b\b\b\b\b\b\b\b\b\b\b\b\b\b\b\b\b\b\b\b\b\b\b\b\b\b\b\b\b\b\b\b\b\b\b\b\b\b 89% - lscp-0.5-fa-derivation-tree.txt\b\b\b\b\b\b\b\b\b\b\b\b\b\b\b\b\b\b\b\b\b\b\b\b\b\b\b\b\b\b\b\b\b\b\b\b\b\b                                      \b\b\b\b\b\b\b\b\b\b\b\b\b\b\b\b\b\b\b\b\b\b\b\b\b\b\b\b\b\b\b\b\b\b\b\b\b\b 90% - lscp-0.5-fa-derivation-tree.txt\b\b\b\b\b\b\b\b\b\b\b\b\b\b\b\b\b\b\b\b\b\b\b\b\b\b\b\b\b\b\b\b\b\b\b\b\b\b                                      \b\b\b\b\b\b\b\b\b\b\b\b\b\b\b\b\b\b\b\b\b\b\b\b\b\b\b\b\b\b\b\b\b\b\b\b\b\b 91% - lscp-0.5-fa-derivation-tree.txt\b\b\b\b\b\b\b\b\b\b\b\b\b\b\b\b\b\b\b\b\b\b\b\b\b\b\b\b\b\b\b\b\b\b\b\b\b\b                                      \b\b\b\b\b\b\b\b\b\b\b\b\b\b\b\b\b\b\b\b\b\b\b\b\b\b\b\b\b\b\b\b\b\b\b\b\b\b 92% - lscp-0.5-fa-derivation-tree.txt\b\b\b\b\b\b\b\b\b\b\b\b\b\b\b\b\b\b\b\b\b\b\b\b\b\b\b\b\b\b\b\b\b\b\b\b\b\b                                      \b\b\b\b\b\b\b\b\b\b\b\b\b\b\b\b\b\b\b\b\b\b\b\b\b\b\b\b\b\b\b\b\b\b\b\b\b\b 93% - lscp-0.5-fa-derivation-tree.txt\b\b\b\b\b\b\b\b\b\b\b\b\b\b\b\b\b\b\b\b\b\b\b\b\b\b\b\b\b\b\b\b\b\b\b\b\b\b                                      \b\b\b\b\b\b\b\b\b\b\b\b\b\b\b\b\b\b\b\b\b\b\b\b\b\b\b\b\b\b\b\b\b\b\b\b\b\b 94% - lscp-0.5-fa-derivation-tree.txt\b\b\b\b\b\b\b\b\b\b\b\b\b\b\b\b\b\b\b\b\b\b\b\b\b\b\b\b\b\b\b\b\b\b\b\b\b\b                                      \b\b\b\b\b\b\b\b\b\b\b\b\b\b\b\b\b\b\b\b\b\b\b\b\b\b\b\b\b\b\b\b\b\b\b\b\b\b 95% - lscp-0.5-fa-derivation-tree.txt\b\b\b\b\b\b\b\b\b\b\b\b\b\b\b\b\b\b\b\b\b\b\b\b\b\b\b\b\b\b\b\b\b\b\b\b\b\b                                      \b\b\b\b\b\b\b\b\b\b\b\b\b\b\b\b\b\b\b\b\b\b\b\b\b\b\b\b\b\b\b\b\b\b\b\b\b\b 96% - lscp-0.5-fa-derivation-tree.txt\b\b\b\b\b\b\b\b\b\b\b\b\b\b\b\b\b\b\b\b\b\b\b\b\b\b\b\b\b\b\b\b\b\b\b\b\b\b                                      \b\b\b\b\b\b\b\b\b\b\b\b\b\b\b\b\b\b\b\b\b\b\b\b\b\b\b\b\b\b\b\b\b\b\b\b\b\b 97% - lscp-0.5-fa-derivation-tree.txt\b\b\b\b\b\b\b\b\b\b\b\b\b\b\b\b\b\b\b\b\b\b\b\b\b\b\b\b\b\b\b\b\b\b\b\b\b\b                                      \b\b\b\b\b\b\b\b\b\b\b\b\b\b\b\b\b\b\b\b\b\b\b\b\b\b\b\b\b\b\b\b\b\b\b\b\b\b 98% - lscp-0.5-fa-derivation-tree.txt\b\b\b\b\b\b\b\b\b\b\b\b\b\b\b\b\b\b\b\b\b\b\b\b\b\b\b\b\b\b\b\b\b\b\b\b\b\b                                      \b\b\b\b\b\b\b\b\b\b\b\b\b\b\b\b\b\b\b\b\b\b\b\b\b\b\b\b\b\b\b\b\b\b\b\b\b\b 99% - lscp-0.5-fa-derivation-tree.txt\b\b\b\b\b\b\b\b\b\b\b\b\b\b\b\b\b\b\b\b\b\b\b\b\b\b\b\b\b\b\b\b\b\b\b\b\b\b                                      \b\b\b\b\b\b\b\b\b\b\b\b\b\b\b\b\b\b\b\b\b\b\b\b\b\b\b\b\b\b\b\b\b\b\b\b\b\b100% 1\b\b\b\b\b\b      \b\b\b\b\b\bEverything is Ok\n",
            "\n",
            "Size:       6420875219\n",
            "Compressed: 527048817\n"
          ],
          "name": "stdout"
        }
      ]
    },
    {
      "cell_type": "code",
      "metadata": {
        "id": "ukjkUD8lWEsx"
      },
      "source": [
        "#Open the file with read only permit\n",
        "f = open('lscp-0.5-fa-derivation-tree.txt', \"r\")\n",
        "#Use readlines to read all lines in the file\n",
        "#The variable \"lines\" is a list containing all lines in the file\n",
        "lines = f.readlines()\n",
        "#Close the file after reading the lines.\n",
        "f.close()"
      ],
      "execution_count": 7,
      "outputs": []
    },
    {
      "cell_type": "code",
      "metadata": {
        "colab": {
          "base_uri": "https://localhost:8080/"
        },
        "id": "-HY5qchUeRHt",
        "outputId": "27bc0c41-07e3-42d2-df29-75e9485021a0"
      },
      "source": [
        "#Select an example\n",
        "example_text = lines[0]\n",
        "print(example_text)"
      ],
      "execution_count": 8,
      "outputs": [
        {
          "output_type": "stream",
          "text": [
            "[('به', 'P'), ('نظر', 'Ne'), ('شما', 'PRO'), ('وقتی', 'CONJ'), ('وزیر', 'Ne'), ('امورخارجه', 'Ne'), ('بریتانیا', 'N'), ('،', 'PUNC'), ('برای', 'Pe'), ('آزادی', 'N'), ('اینقدر', 'ADV'), ('تقلا', 'N'), ('و', 'CONJ'), ('پروپاگاندا', 'N'), ('می\\u200cکند', 'V'), ('،', 'PUNC'), ('در', 'P'), ('حال', 'Ne'), ('ارسا…', 'N')]\n",
            "\n"
          ],
          "name": "stdout"
        }
      ]
    },
    {
      "cell_type": "markdown",
      "metadata": {
        "id": "B8deVbojgg-R"
      },
      "source": [
        "##Text preprocessing"
      ]
    },
    {
      "cell_type": "code",
      "metadata": {
        "id": "c7tgLGvpfc25"
      },
      "source": [
        "sents = []\n",
        "for line in lines[:1000000]:\n",
        "  line = line.replace('ي', 'ی').replace('ك', 'ک').replace('ة', 'ه').replace('\\\\', '')\n",
        "  line = re.sub(r'u200[cd]', '', line)\n",
        "  words = line.split(', (')\n",
        "  sent = []\n",
        "  for word in words:          \n",
        "    if word.startswith('['):\n",
        "      word = word[3:]\n",
        "\n",
        "    else:\n",
        "      word = word[1:]\n",
        "                \n",
        "    if not word.endswith(']\\n'):\n",
        "      word = word[:-2]\n",
        "\n",
        "    else:\n",
        "      word = word[:-3]\n",
        "\n",
        "    sent += [word]\n",
        "  sents += [sent]"
      ],
      "execution_count": 9,
      "outputs": []
    },
    {
      "cell_type": "code",
      "metadata": {
        "id": "FR1ORhbhXD_j"
      },
      "source": [
        "delim = \"', '\"\n",
        "for i, sent in enumerate(sents):\n",
        "  for j, word in enumerate(sent):  \n",
        "    if delim in word:\n",
        "      sents[i][j] = word.split(delim)"
      ],
      "execution_count": 10,
      "outputs": []
    },
    {
      "cell_type": "code",
      "metadata": {
        "id": "JwZF_aS3_SGL"
      },
      "source": [
        "for i,sent in enumerate(sents):\n",
        "  for j,s in enumerate(sent):\n",
        "    if len(s) != 2:\n",
        "      s = s.replace('\\\\', '')\n",
        "      sents[i][j] = s.split(', ')"
      ],
      "execution_count": 11,
      "outputs": []
    },
    {
      "cell_type": "code",
      "metadata": {
        "colab": {
          "base_uri": "https://localhost:8080/"
        },
        "id": "AV0Xlc5gdLl8",
        "outputId": "a9b08d87-c3d9-4be9-98ce-646d44efe665"
      },
      "source": [
        "sents[0][0]"
      ],
      "execution_count": 12,
      "outputs": [
        {
          "output_type": "execute_result",
          "data": {
            "text/plain": [
              "['به', 'P']"
            ]
          },
          "metadata": {
            "tags": []
          },
          "execution_count": 12
        }
      ]
    },
    {
      "cell_type": "code",
      "metadata": {
        "id": "pytuSQ8szset"
      },
      "source": [
        "tags, lst = [], []\n",
        "for sent in sents:\n",
        "  text = \" \".join([word[0] for word in sent if len(word)==2])\n",
        "  for word in sent:\n",
        "    if len(word) == 2:\n",
        "      tag = word[1].replace(\"\\'\", '')\n",
        "      tags.append(tag)\n",
        "      if tag in ['AJ', 'AJe', 'ADV']:\n",
        "        if tag == 'AJe':\n",
        "          tag = 'AJ'\n",
        "        lst.append([word[0], tag, text, 0, 0])"
      ],
      "execution_count": 44,
      "outputs": []
    },
    {
      "cell_type": "code",
      "metadata": {
        "colab": {
          "base_uri": "https://localhost:8080/"
        },
        "id": "FpnHz7LgV9vz",
        "outputId": "312c35e9-1276-415a-af46-ae846621477c"
      },
      "source": [
        "lst[0]"
      ],
      "execution_count": 91,
      "outputs": [
        {
          "output_type": "execute_result",
          "data": {
            "text/plain": [
              "['نه',\n",
              " 'ADV',\n",
              " 'آره خیلی شباهت داره با اقتدار کلیسا ولی از اونجایی فواره چون بلند شود سرنگون گردد ظلم هم بعد اوج گرفتن شروع به تموم شدن میکنه ؛ بزرگترین بدی انقلابها اینکه میشن صحنه انتقام و عقده گشایی نه اصلاح کارها ولی خب فعلا همه دنبالشن چون سریع اتفاق میوفته',\n",
              " 0,\n",
              " 39740]"
            ]
          },
          "metadata": {
            "tags": []
          },
          "execution_count": 91
        }
      ]
    },
    {
      "cell_type": "code",
      "metadata": {
        "colab": {
          "base_uri": "https://localhost:8080/"
        },
        "id": "2Z6JW2ysc6hO",
        "outputId": "85863015-25ee-4456-9e85-3bb7601e85d2"
      },
      "source": [
        "len(lst)"
      ],
      "execution_count": 92,
      "outputs": [
        {
          "output_type": "execute_result",
          "data": {
            "text/plain": [
              "1942552"
            ]
          },
          "metadata": {
            "tags": []
          },
          "execution_count": 92
        }
      ]
    },
    {
      "cell_type": "code",
      "metadata": {
        "id": "OQgnXyeWcw5W"
      },
      "source": [
        "lst = [tup for tup in set(tuple(i) for i in lst)]"
      ],
      "execution_count": 97,
      "outputs": []
    },
    {
      "cell_type": "code",
      "metadata": {
        "id": "CYcg9pzMc8le"
      },
      "source": [
        "total_words = len(lst)"
      ],
      "execution_count": 117,
      "outputs": []
    },
    {
      "cell_type": "code",
      "metadata": {
        "id": "x2iVlmIifKQg"
      },
      "source": [
        "adj_count, adv_count = {}, {}\n",
        "\n",
        "for word, tag, txt, ct1, ct2 in lst:\n",
        "  if tag == 'AJ':\n",
        "    if word not in adj_count:\n",
        "      adj_count[word] = 1\n",
        "    else:\n",
        "      adj_count[word] += 1\n",
        "\n",
        "  if tag == 'ADV':\n",
        "    if word not in adv_count:\n",
        "      adv_count[word] = 1\n",
        "    else:\n",
        "      adv_count[word] += 1"
      ],
      "execution_count": 99,
      "outputs": []
    },
    {
      "cell_type": "code",
      "metadata": {
        "id": "lJideO7kSFDa"
      },
      "source": [
        "for i, (word, tag, txt, ct1, ct2) in enumerate(lst):\n",
        "  if word in adj_count:\n",
        "    lst[i][3] = adj_count[word]\n",
        "\n",
        "  if word in adv_count:\n",
        "    lst[i][4] = adv_count[word]\n"
      ],
      "execution_count": 46,
      "outputs": []
    },
    {
      "cell_type": "code",
      "metadata": {
        "colab": {
          "base_uri": "https://localhost:8080/"
        },
        "id": "T-FahzJOTZ3d",
        "outputId": "f145096b-1479-4585-8110-487b2e2bde32"
      },
      "source": [
        "lst[3]"
      ],
      "execution_count": 100,
      "outputs": [
        {
          "output_type": "execute_result",
          "data": {
            "text/plain": [
              "('آخه', 'ADV', 'وصله یه این زیبایی آخه', 0, 4212)"
            ]
          },
          "metadata": {
            "tags": []
          },
          "execution_count": 100
        }
      ]
    },
    {
      "cell_type": "code",
      "metadata": {
        "colab": {
          "base_uri": "https://localhost:8080/"
        },
        "id": "SUGoo10tYbtE",
        "outputId": "2990870f-c4a7-4dbf-d0e4-f4a3fb9bc2be"
      },
      "source": [
        "lst = sorted(lst, key=lambda x: (x[4], x[3]), reverse=True)\n",
        "lst[0]"
      ],
      "execution_count": 101,
      "outputs": [
        {
          "output_type": "execute_result",
          "data": {
            "text/plain": [
              "('نه',\n",
              " 'ADV',\n",
              " 'آقای خمینی گفت ؛ نباید کسانی در گذشته برای حال فعلی مردم ، تصمیم بگیرند ! سال پیش برای حال فعلی تصمیم گرفته_شد ! اینک یک سوال ساده و غیر مسلحانه ! آقای خامنهایی شما نه مرجع تقلید من هستید ، نه سیاستهای شما را بعنوان میپسندم ، تکلیف من و امثال من چیست ؟',\n",
              " 0,\n",
              " 39740)"
            ]
          },
          "metadata": {
            "tags": []
          },
          "execution_count": 101
        }
      ]
    },
    {
      "cell_type": "code",
      "metadata": {
        "colab": {
          "base_uri": "https://localhost:8080/"
        },
        "id": "xGbpyyJWR5nB",
        "outputId": "8a75c132-c25e-4083-cba0-1710a11fd795"
      },
      "source": [
        "tags = sorted(set(tags))\n",
        "tags"
      ],
      "execution_count": 115,
      "outputs": [
        {
          "output_type": "execute_result",
          "data": {
            "text/plain": [
              "['ADV',\n",
              " 'ADVe',\n",
              " 'AJ',\n",
              " 'AJe',\n",
              " 'CL',\n",
              " 'CONJ',\n",
              " 'CONJe',\n",
              " 'DET',\n",
              " 'DETe',\n",
              " 'INT',\n",
              " 'N',\n",
              " 'NUM',\n",
              " 'NUMe',\n",
              " 'Ne',\n",
              " 'P',\n",
              " 'POSTP',\n",
              " 'PRO',\n",
              " 'PROe',\n",
              " 'PUNC',\n",
              " 'Pe',\n",
              " 'RES',\n",
              " 'RESe',\n",
              " 'V']"
            ]
          },
          "metadata": {
            "tags": []
          },
          "execution_count": 115
        }
      ]
    },
    {
      "cell_type": "code",
      "metadata": {
        "colab": {
          "base_uri": "https://localhost:8080/"
        },
        "id": "_w12mIiKQrlJ",
        "outputId": "d662bb00-7ccd-495c-c0f2-5ada975f5ee0"
      },
      "source": [
        "len(adj_count)"
      ],
      "execution_count": 104,
      "outputs": [
        {
          "output_type": "execute_result",
          "data": {
            "text/plain": [
              "45647"
            ]
          },
          "metadata": {
            "tags": []
          },
          "execution_count": 104
        }
      ]
    },
    {
      "cell_type": "code",
      "metadata": {
        "colab": {
          "base_uri": "https://localhost:8080/"
        },
        "id": "uNssTCkERD6Q",
        "outputId": "0343e941-623a-4810-c84f-b5b0f6775888"
      },
      "source": [
        "len(adv_count)"
      ],
      "execution_count": 105,
      "outputs": [
        {
          "output_type": "execute_result",
          "data": {
            "text/plain": [
              "11265"
            ]
          },
          "metadata": {
            "tags": []
          },
          "execution_count": 105
        }
      ]
    },
    {
      "cell_type": "code",
      "metadata": {
        "id": "wmPjrGi0c9hH"
      },
      "source": [
        "df = pd.DataFrame(lst, columns=['word', 'tag', 'text', 'adj_count', 'adv_count'])\n"
      ],
      "execution_count": 106,
      "outputs": []
    },
    {
      "cell_type": "code",
      "metadata": {
        "id": "pZrcT1t5l0Yk"
      },
      "source": [
        "df['adj_count'] = df['adj_count'].astype('int32')\n",
        "df['adv_count'] = df['adv_count'].astype('int32')"
      ],
      "execution_count": 107,
      "outputs": []
    },
    {
      "cell_type": "code",
      "metadata": {
        "colab": {
          "base_uri": "https://localhost:8080/"
        },
        "id": "iiyAUhCKPc3a",
        "outputId": "63d4891e-c4e2-447b-916c-bfd943b2e824"
      },
      "source": [
        "len(df)"
      ],
      "execution_count": 108,
      "outputs": [
        {
          "output_type": "execute_result",
          "data": {
            "text/plain": [
              "963833"
            ]
          },
          "metadata": {
            "tags": []
          },
          "execution_count": 108
        }
      ]
    },
    {
      "cell_type": "code",
      "metadata": {
        "colab": {
          "base_uri": "https://localhost:8080/"
        },
        "id": "b5T6BbyZmsYp",
        "outputId": "30db3e77-b23e-40bd-f17e-271b42a25b80"
      },
      "source": [
        "df['tag'].unique()"
      ],
      "execution_count": 109,
      "outputs": [
        {
          "output_type": "execute_result",
          "data": {
            "text/plain": [
              "array(['ADV', 'AJ'], dtype=object)"
            ]
          },
          "metadata": {
            "tags": []
          },
          "execution_count": 109
        }
      ]
    },
    {
      "cell_type": "code",
      "metadata": {
        "colab": {
          "base_uri": "https://localhost:8080/",
          "height": 419
        },
        "id": "Z9MG2YaUofVC",
        "outputId": "114c86af-8026-44d9-c426-15bf565830b6"
      },
      "source": [
        "df"
      ],
      "execution_count": 110,
      "outputs": [
        {
          "output_type": "execute_result",
          "data": {
            "text/html": [
              "<div>\n",
              "<style scoped>\n",
              "    .dataframe tbody tr th:only-of-type {\n",
              "        vertical-align: middle;\n",
              "    }\n",
              "\n",
              "    .dataframe tbody tr th {\n",
              "        vertical-align: top;\n",
              "    }\n",
              "\n",
              "    .dataframe thead th {\n",
              "        text-align: right;\n",
              "    }\n",
              "</style>\n",
              "<table border=\"1\" class=\"dataframe\">\n",
              "  <thead>\n",
              "    <tr style=\"text-align: right;\">\n",
              "      <th></th>\n",
              "      <th>word</th>\n",
              "      <th>tag</th>\n",
              "      <th>text</th>\n",
              "      <th>adj_count</th>\n",
              "      <th>adv_count</th>\n",
              "    </tr>\n",
              "  </thead>\n",
              "  <tbody>\n",
              "    <tr>\n",
              "      <th>0</th>\n",
              "      <td>نه</td>\n",
              "      <td>ADV</td>\n",
              "      <td>آقای خمینی گفت ؛ نباید کسانی در گذشته برای حال...</td>\n",
              "      <td>0</td>\n",
              "      <td>39740</td>\n",
              "    </tr>\n",
              "    <tr>\n",
              "      <th>1</th>\n",
              "      <td>نه</td>\n",
              "      <td>ADV</td>\n",
              "      <td>نه خب اونم راست میگفت ، منم زیاد چوسناله میکنم...</td>\n",
              "      <td>0</td>\n",
              "      <td>39740</td>\n",
              "    </tr>\n",
              "    <tr>\n",
              "      <th>2</th>\n",
              "      <td>نه</td>\n",
              "      <td>ADV</td>\n",
              "      <td>آدم ازدیونه انتظاری نداره به همین جهت دائم سوپ...</td>\n",
              "      <td>0</td>\n",
              "      <td>39740</td>\n",
              "    </tr>\n",
              "    <tr>\n",
              "      <th>3</th>\n",
              "      <td>نه</td>\n",
              "      <td>ADV</td>\n",
              "      <td>زیاد میشنویم ، نه ؟</td>\n",
              "      <td>0</td>\n",
              "      <td>39740</td>\n",
              "    </tr>\n",
              "    <tr>\n",
              "      <th>4</th>\n",
              "      <td>نه</td>\n",
              "      <td>ADV</td>\n",
              "      <td>دارن برای عید ، مسافرت دسته جمعی برنامه ریزی م...</td>\n",
              "      <td>0</td>\n",
              "      <td>39740</td>\n",
              "    </tr>\n",
              "    <tr>\n",
              "      <th>...</th>\n",
              "      <td>...</td>\n",
              "      <td>...</td>\n",
              "      <td>...</td>\n",
              "      <td>...</td>\n",
              "      <td>...</td>\n",
              "    </tr>\n",
              "    <tr>\n",
              "      <th>963828</th>\n",
              "      <td>سینک</td>\n",
              "      <td>AJ</td>\n",
              "      <td>صبح زود برسید و ببینید خدماتی تو ماگتون شیر تی...</td>\n",
              "      <td>1</td>\n",
              "      <td>0</td>\n",
              "    </tr>\n",
              "    <tr>\n",
              "      <th>963829</th>\n",
              "      <td>نبرد👥یارشان</td>\n",
              "      <td>AJ</td>\n",
              "      <td>چفیهای همراز مردان نبرد👥یارشان بودی تو در شبها...</td>\n",
              "      <td>1</td>\n",
              "      <td>0</td>\n",
              "    </tr>\n",
              "    <tr>\n",
              "      <th>963830</th>\n",
              "      <td>اردشیر😂😂😂از</td>\n",
              "      <td>AJ</td>\n",
              "      <td>به جان اردشیر😂😂😂از نیناش بپرس😂😂😂😂</td>\n",
              "      <td>1</td>\n",
              "      <td>0</td>\n",
              "    </tr>\n",
              "    <tr>\n",
              "      <th>963831</th>\n",
              "      <td>جنبان</td>\n",
              "      <td>AJ</td>\n",
              "      <td>من نمیدونستم که به خمینى سلسله جنبان هم میگویند</td>\n",
              "      <td>1</td>\n",
              "      <td>0</td>\n",
              "    </tr>\n",
              "    <tr>\n",
              "      <th>963832</th>\n",
              "      <td>مناظرهگر</td>\n",
              "      <td>AJ</td>\n",
              "      <td>این طور که نمیشه مناظره کرد اول بگین در صورت د...</td>\n",
              "      <td>1</td>\n",
              "      <td>0</td>\n",
              "    </tr>\n",
              "  </tbody>\n",
              "</table>\n",
              "<p>963833 rows × 5 columns</p>\n",
              "</div>"
            ],
            "text/plain": [
              "               word  tag  ... adj_count  adv_count\n",
              "0                نه  ADV  ...         0      39740\n",
              "1                نه  ADV  ...         0      39740\n",
              "2                نه  ADV  ...         0      39740\n",
              "3                نه  ADV  ...         0      39740\n",
              "4                نه  ADV  ...         0      39740\n",
              "...             ...  ...  ...       ...        ...\n",
              "963828         سینک   AJ  ...         1          0\n",
              "963829  نبرد👥یارشان   AJ  ...         1          0\n",
              "963830  اردشیر😂😂😂از   AJ  ...         1          0\n",
              "963831        جنبان   AJ  ...         1          0\n",
              "963832     مناظرهگر   AJ  ...         1          0\n",
              "\n",
              "[963833 rows x 5 columns]"
            ]
          },
          "metadata": {
            "tags": []
          },
          "execution_count": 110
        }
      ]
    },
    {
      "cell_type": "code",
      "metadata": {
        "id": "h-cUKSlUZ05B"
      },
      "source": [
        "df = df[~df['adj_count'].isin(range(1,5))]\n",
        "df = df[~df['adv_count'].isin(range(1,5))]"
      ],
      "execution_count": 125,
      "outputs": []
    },
    {
      "cell_type": "code",
      "metadata": {
        "id": "sFVlc3n3cEjS"
      },
      "source": [
        "df = df.drop_duplicates()"
      ],
      "execution_count": 126,
      "outputs": []
    },
    {
      "cell_type": "code",
      "metadata": {
        "id": "cCt6NfuWeVOM"
      },
      "source": [
        "df['total_adj'] = len(df[df['tag'] == 'AJ'])\n",
        "df['total_adv'] = len(df[df['tag'] == 'ADV'])\n",
        "df['total_words'] = total_words\n",
        "df['total_adj'] = df['total_adj'].astype('int32')\n",
        "df['total_adv'] = df['total_adv'].astype('int32')\n",
        "df['total_words'] = df['total_words'].astype('int32')"
      ],
      "execution_count": 127,
      "outputs": []
    },
    {
      "cell_type": "code",
      "metadata": {
        "colab": {
          "base_uri": "https://localhost:8080/",
          "height": 419
        },
        "id": "kDHwXFd1aEB4",
        "outputId": "c5ea325f-4353-47fe-c06e-a7e59e0ec78f"
      },
      "source": [
        "df"
      ],
      "execution_count": 128,
      "outputs": [
        {
          "output_type": "execute_result",
          "data": {
            "text/html": [
              "<div>\n",
              "<style scoped>\n",
              "    .dataframe tbody tr th:only-of-type {\n",
              "        vertical-align: middle;\n",
              "    }\n",
              "\n",
              "    .dataframe tbody tr th {\n",
              "        vertical-align: top;\n",
              "    }\n",
              "\n",
              "    .dataframe thead th {\n",
              "        text-align: right;\n",
              "    }\n",
              "</style>\n",
              "<table border=\"1\" class=\"dataframe\">\n",
              "  <thead>\n",
              "    <tr style=\"text-align: right;\">\n",
              "      <th></th>\n",
              "      <th>word</th>\n",
              "      <th>tag</th>\n",
              "      <th>text</th>\n",
              "      <th>adj_count</th>\n",
              "      <th>adv_count</th>\n",
              "      <th>total_adj</th>\n",
              "      <th>total_adv</th>\n",
              "      <th>total_words</th>\n",
              "    </tr>\n",
              "  </thead>\n",
              "  <tbody>\n",
              "    <tr>\n",
              "      <th>0</th>\n",
              "      <td>نه</td>\n",
              "      <td>ADV</td>\n",
              "      <td>آقای خمینی گفت ؛ نباید کسانی در گذشته برای حال...</td>\n",
              "      <td>0</td>\n",
              "      <td>39740</td>\n",
              "      <td>459572</td>\n",
              "      <td>296707</td>\n",
              "      <td>963833</td>\n",
              "    </tr>\n",
              "    <tr>\n",
              "      <th>1</th>\n",
              "      <td>نه</td>\n",
              "      <td>ADV</td>\n",
              "      <td>نه خب اونم راست میگفت ، منم زیاد چوسناله میکنم...</td>\n",
              "      <td>0</td>\n",
              "      <td>39740</td>\n",
              "      <td>459572</td>\n",
              "      <td>296707</td>\n",
              "      <td>963833</td>\n",
              "    </tr>\n",
              "    <tr>\n",
              "      <th>2</th>\n",
              "      <td>نه</td>\n",
              "      <td>ADV</td>\n",
              "      <td>آدم ازدیونه انتظاری نداره به همین جهت دائم سوپ...</td>\n",
              "      <td>0</td>\n",
              "      <td>39740</td>\n",
              "      <td>459572</td>\n",
              "      <td>296707</td>\n",
              "      <td>963833</td>\n",
              "    </tr>\n",
              "    <tr>\n",
              "      <th>3</th>\n",
              "      <td>نه</td>\n",
              "      <td>ADV</td>\n",
              "      <td>زیاد میشنویم ، نه ؟</td>\n",
              "      <td>0</td>\n",
              "      <td>39740</td>\n",
              "      <td>459572</td>\n",
              "      <td>296707</td>\n",
              "      <td>963833</td>\n",
              "    </tr>\n",
              "    <tr>\n",
              "      <th>4</th>\n",
              "      <td>نه</td>\n",
              "      <td>ADV</td>\n",
              "      <td>دارن برای عید ، مسافرت دسته جمعی برنامه ریزی م...</td>\n",
              "      <td>0</td>\n",
              "      <td>39740</td>\n",
              "      <td>459572</td>\n",
              "      <td>296707</td>\n",
              "      <td>963833</td>\n",
              "    </tr>\n",
              "    <tr>\n",
              "      <th>...</th>\n",
              "      <td>...</td>\n",
              "      <td>...</td>\n",
              "      <td>...</td>\n",
              "      <td>...</td>\n",
              "      <td>...</td>\n",
              "      <td>...</td>\n",
              "      <td>...</td>\n",
              "      <td>...</td>\n",
              "    </tr>\n",
              "    <tr>\n",
              "      <th>923257</th>\n",
              "      <td>اجرائی</td>\n",
              "      <td>AJ</td>\n",
              "      <td>جالب اینجاست که « ستاد اجرائی فرمان امام » فقط...</td>\n",
              "      <td>5</td>\n",
              "      <td>0</td>\n",
              "      <td>459572</td>\n",
              "      <td>296707</td>\n",
              "      <td>963833</td>\n",
              "    </tr>\n",
              "    <tr>\n",
              "      <th>923258</th>\n",
              "      <td>استحتی</td>\n",
              "      <td>AJ</td>\n",
              "      <td>کار غلط ، همیشه غلط است ! حتی اگر همه همان کار...</td>\n",
              "      <td>5</td>\n",
              "      <td>0</td>\n",
              "      <td>459572</td>\n",
              "      <td>296707</td>\n",
              "      <td>963833</td>\n",
              "    </tr>\n",
              "    <tr>\n",
              "      <th>923259</th>\n",
              "      <td>بذاری</td>\n",
              "      <td>AJ</td>\n",
              "      <td>شما فارسهای فاشیست چقدر پررو تشریف دارین معلوم...</td>\n",
              "      <td>5</td>\n",
              "      <td>0</td>\n",
              "      <td>459572</td>\n",
              "      <td>296707</td>\n",
              "      <td>963833</td>\n",
              "    </tr>\n",
              "    <tr>\n",
              "      <th>923260</th>\n",
              "      <td>تیرخلاصی</td>\n",
              "      <td>AJ</td>\n",
              "      <td>درخواست سلب تابعیت آقای طاهری که اولین تبعه ای...</td>\n",
              "      <td>5</td>\n",
              "      <td>0</td>\n",
              "      <td>459572</td>\n",
              "      <td>296707</td>\n",
              "      <td>963833</td>\n",
              "    </tr>\n",
              "    <tr>\n",
              "      <th>923261</th>\n",
              "      <td>میخوردی</td>\n",
              "      <td>AJ</td>\n",
              "      <td>کم پیدایی وروجکراستی دیدی اینترنت قطع نشدحرص م...</td>\n",
              "      <td>5</td>\n",
              "      <td>0</td>\n",
              "      <td>459572</td>\n",
              "      <td>296707</td>\n",
              "      <td>963833</td>\n",
              "    </tr>\n",
              "  </tbody>\n",
              "</table>\n",
              "<p>756279 rows × 8 columns</p>\n",
              "</div>"
            ],
            "text/plain": [
              "            word  tag  ... total_adv  total_words\n",
              "0             نه  ADV  ...    296707       963833\n",
              "1             نه  ADV  ...    296707       963833\n",
              "2             نه  ADV  ...    296707       963833\n",
              "3             نه  ADV  ...    296707       963833\n",
              "4             نه  ADV  ...    296707       963833\n",
              "...          ...  ...  ...       ...          ...\n",
              "923257    اجرائی   AJ  ...    296707       963833\n",
              "923258    استحتی   AJ  ...    296707       963833\n",
              "923259     بذاری   AJ  ...    296707       963833\n",
              "923260  تیرخلاصی   AJ  ...    296707       963833\n",
              "923261   میخوردی   AJ  ...    296707       963833\n",
              "\n",
              "[756279 rows x 8 columns]"
            ]
          },
          "metadata": {
            "tags": []
          },
          "execution_count": 128
        }
      ]
    },
    {
      "cell_type": "code",
      "metadata": {
        "colab": {
          "base_uri": "https://localhost:8080/",
          "height": 419
        },
        "id": "ytAKtSCujAFU",
        "outputId": "8cf65509-fb31-42c5-9a49-ecd97b26f783"
      },
      "source": [
        "overlap = df[(df['adj_count'] > 0) & (df['adv_count'] > 0)]\n",
        "overlap"
      ],
      "execution_count": 129,
      "outputs": [
        {
          "output_type": "execute_result",
          "data": {
            "text/html": [
              "<div>\n",
              "<style scoped>\n",
              "    .dataframe tbody tr th:only-of-type {\n",
              "        vertical-align: middle;\n",
              "    }\n",
              "\n",
              "    .dataframe tbody tr th {\n",
              "        vertical-align: top;\n",
              "    }\n",
              "\n",
              "    .dataframe thead th {\n",
              "        text-align: right;\n",
              "    }\n",
              "</style>\n",
              "<table border=\"1\" class=\"dataframe\">\n",
              "  <thead>\n",
              "    <tr style=\"text-align: right;\">\n",
              "      <th></th>\n",
              "      <th>word</th>\n",
              "      <th>tag</th>\n",
              "      <th>text</th>\n",
              "      <th>adj_count</th>\n",
              "      <th>adv_count</th>\n",
              "      <th>total_adj</th>\n",
              "      <th>total_adv</th>\n",
              "      <th>total_words</th>\n",
              "    </tr>\n",
              "  </thead>\n",
              "  <tbody>\n",
              "    <tr>\n",
              "      <th>68270</th>\n",
              "      <td>دیگه</td>\n",
              "      <td>ADV</td>\n",
              "      <td>انتظار داشتی بازی باشه🙄بچه بودی دیگه پیش میاد🤗</td>\n",
              "      <td>94</td>\n",
              "      <td>25010</td>\n",
              "      <td>459572</td>\n",
              "      <td>296707</td>\n",
              "      <td>963833</td>\n",
              "    </tr>\n",
              "    <tr>\n",
              "      <th>68271</th>\n",
              "      <td>دیگه</td>\n",
              "      <td>ADV</td>\n",
              "      <td>جو میگرشونیه مدت که میگذره دنبال رفقای فراموش ...</td>\n",
              "      <td>94</td>\n",
              "      <td>25010</td>\n",
              "      <td>459572</td>\n",
              "      <td>296707</td>\n",
              "      <td>963833</td>\n",
              "    </tr>\n",
              "    <tr>\n",
              "      <th>68272</th>\n",
              "      <td>دیگه</td>\n",
              "      <td>ADV</td>\n",
              "      <td>چی میگی شما کاندوم نمیفروشن جمعیت زیاد شه به ا...</td>\n",
              "      <td>94</td>\n",
              "      <td>25010</td>\n",
              "      <td>459572</td>\n",
              "      <td>296707</td>\n",
              "      <td>963833</td>\n",
              "    </tr>\n",
              "    <tr>\n",
              "      <th>68273</th>\n",
              "      <td>دیگه</td>\n",
              "      <td>ADV</td>\n",
              "      <td>وا بگو دیگه مونیک جیکار کردم😢😢👀</td>\n",
              "      <td>94</td>\n",
              "      <td>25010</td>\n",
              "      <td>459572</td>\n",
              "      <td>296707</td>\n",
              "      <td>963833</td>\n",
              "    </tr>\n",
              "    <tr>\n",
              "      <th>68274</th>\n",
              "      <td>دیگه</td>\n",
              "      <td>ADV</td>\n",
              "      <td>دوست ندارن دیگه : /😢</td>\n",
              "      <td>94</td>\n",
              "      <td>25010</td>\n",
              "      <td>459572</td>\n",
              "      <td>296707</td>\n",
              "      <td>963833</td>\n",
              "    </tr>\n",
              "    <tr>\n",
              "      <th>...</th>\n",
              "      <td>...</td>\n",
              "      <td>...</td>\n",
              "      <td>...</td>\n",
              "      <td>...</td>\n",
              "      <td>...</td>\n",
              "      <td>...</td>\n",
              "      <td>...</td>\n",
              "      <td>...</td>\n",
              "    </tr>\n",
              "    <tr>\n",
              "      <th>512811</th>\n",
              "      <td>چیزى</td>\n",
              "      <td>AJ</td>\n",
              "      <td>اکثریت عظیم روشنفکران تحصیل کردهای که مىشناسم ...</td>\n",
              "      <td>5</td>\n",
              "      <td>5</td>\n",
              "      <td>459572</td>\n",
              "      <td>296707</td>\n",
              "      <td>963833</td>\n",
              "    </tr>\n",
              "    <tr>\n",
              "      <th>512812</th>\n",
              "      <td>سالشونه</td>\n",
              "      <td>AJ</td>\n",
              "      <td>من نمیدونم چرا دوستای ایم سعی دارن حتما بگن سا...</td>\n",
              "      <td>5</td>\n",
              "      <td>5</td>\n",
              "      <td>459572</td>\n",
              "      <td>296707</td>\n",
              "      <td>963833</td>\n",
              "    </tr>\n",
              "    <tr>\n",
              "      <th>512813</th>\n",
              "      <td>مامانه</td>\n",
              "      <td>ADV</td>\n",
              "      <td>هستش واقعی جن دیدی 👻👻👻👻👻👻از اوناییکه خون گردن ...</td>\n",
              "      <td>5</td>\n",
              "      <td>5</td>\n",
              "      <td>459572</td>\n",
              "      <td>296707</td>\n",
              "      <td>963833</td>\n",
              "    </tr>\n",
              "    <tr>\n",
              "      <th>512814</th>\n",
              "      <td>دونفری</td>\n",
              "      <td>AJ</td>\n",
              "      <td>تخت یه نفره اییم که روش دونفری بخوابی بازم شکن...</td>\n",
              "      <td>5</td>\n",
              "      <td>5</td>\n",
              "      <td>459572</td>\n",
              "      <td>296707</td>\n",
              "      <td>963833</td>\n",
              "    </tr>\n",
              "    <tr>\n",
              "      <th>512815</th>\n",
              "      <td>سالشونه</td>\n",
              "      <td>ADV</td>\n",
              "      <td>دیروز یه خورده با پدرم که سالشونه بحث کردم و م...</td>\n",
              "      <td>5</td>\n",
              "      <td>5</td>\n",
              "      <td>459572</td>\n",
              "      <td>296707</td>\n",
              "      <td>963833</td>\n",
              "    </tr>\n",
              "  </tbody>\n",
              "</table>\n",
              "<p>240895 rows × 8 columns</p>\n",
              "</div>"
            ],
            "text/plain": [
              "           word  tag  ... total_adv  total_words\n",
              "68270      دیگه  ADV  ...    296707       963833\n",
              "68271      دیگه  ADV  ...    296707       963833\n",
              "68272      دیگه  ADV  ...    296707       963833\n",
              "68273      دیگه  ADV  ...    296707       963833\n",
              "68274      دیگه  ADV  ...    296707       963833\n",
              "...         ...  ...  ...       ...          ...\n",
              "512811     چیزى   AJ  ...    296707       963833\n",
              "512812  سالشونه   AJ  ...    296707       963833\n",
              "512813   مامانه  ADV  ...    296707       963833\n",
              "512814   دونفری   AJ  ...    296707       963833\n",
              "512815  سالشونه  ADV  ...    296707       963833\n",
              "\n",
              "[240895 rows x 8 columns]"
            ]
          },
          "metadata": {
            "tags": []
          },
          "execution_count": 129
        }
      ]
    },
    {
      "cell_type": "code",
      "metadata": {
        "colab": {
          "base_uri": "https://localhost:8080/"
        },
        "id": "jUlAySEbo1j4",
        "outputId": "1506cf79-cb5d-4e8c-fed2-521b870003b5"
      },
      "source": [
        "sorted(list(overlap['word'].unique()))"
      ],
      "execution_count": 134,
      "outputs": [
        {
          "output_type": "execute_result",
          "data": {
            "text/plain": [
              "['',\n",
              " 'u2067',\n",
              " 'u2069',\n",
              " 'u2069u2067',\n",
              " '؟؟',\n",
              " '؟؟؟',\n",
              " 'آتیش',\n",
              " 'آخوندا',\n",
              " 'آخوندی',\n",
              " 'آدما',\n",
              " 'آرام',\n",
              " 'آره',\n",
              " 'آرومتر',\n",
              " 'آزاد',\n",
              " 'آزادانه',\n",
              " 'آزمایشی',\n",
              " 'آسان',\n",
              " 'آسوده',\n",
              " 'آسون',\n",
              " 'آسونه',\n",
              " 'آشپزخونه',\n",
              " 'آشکارتر',\n",
              " 'آقایون',\n",
              " 'آموز',\n",
              " 'آهسته',\n",
              " 'آواتار',\n",
              " 'آگاهانه',\n",
              " 'ابلهانه',\n",
              " 'اتفاقی',\n",
              " 'اجباری',\n",
              " 'احمقانه',\n",
              " 'اخر',\n",
              " 'اخه',\n",
              " 'ارزونتر',\n",
              " 'اره',\n",
              " 'از',\n",
              " 'ازشون',\n",
              " 'ازین',\n",
              " 'اشتباه',\n",
              " 'اشتباهی',\n",
              " 'اشرافی',\n",
              " 'اصن',\n",
              " 'الله',\n",
              " 'الکی',\n",
              " 'امنه',\n",
              " 'انداز',\n",
              " 'اندکی',\n",
              " 'انسانه',\n",
              " 'انقد',\n",
              " 'انقدر',\n",
              " 'انچه',\n",
              " 'انگاری',\n",
              " 'اوردوز',\n",
              " 'اون',\n",
              " 'اونجا',\n",
              " 'اونقدر',\n",
              " 'اونموقع',\n",
              " 'اونه',\n",
              " 'اونورتر',\n",
              " 'اى',\n",
              " 'اگه',\n",
              " 'ایرانه',\n",
              " 'ایستاده',\n",
              " 'اینبار',\n",
              " 'اینتر',\n",
              " 'اینجا',\n",
              " 'اینجور',\n",
              " 'اینجوری',\n",
              " 'اینطوری',\n",
              " 'اینقد',\n",
              " 'اینقده',\n",
              " 'اینه',\n",
              " 'اینور',\n",
              " 'اینکار',\n",
              " 'ایول',\n",
              " 'باباش',\n",
              " 'باحاله',\n",
              " 'بارسا',\n",
              " 'باز',\n",
              " 'بازم',\n",
              " 'بازه',\n",
              " 'بازیچه',\n",
              " 'بالا',\n",
              " 'بالاتر',\n",
              " 'بالقوه',\n",
              " 'بامزه',\n",
              " 'باهاش',\n",
              " 'باهاشون',\n",
              " 'باهم',\n",
              " 'ببره',\n",
              " 'ببینه',\n",
              " 'بتونه',\n",
              " 'بتونی',\n",
              " 'بجا',\n",
              " 'بحق',\n",
              " 'بخدا',\n",
              " 'بخره',\n",
              " 'بخون',\n",
              " 'بخونه',\n",
              " 'بد',\n",
              " 'بدتر',\n",
              " 'بدجور',\n",
              " 'بدون',\n",
              " 'بدونه',\n",
              " 'برا',\n",
              " 'برامون',\n",
              " 'براه',\n",
              " 'براى',\n",
              " 'برجا',\n",
              " 'برسونه',\n",
              " 'برعکس',\n",
              " 'برهنه',\n",
              " 'بریزه',\n",
              " 'برینه',\n",
              " 'بزار',\n",
              " 'بزاره',\n",
              " 'بزرگ',\n",
              " 'بزرگا',\n",
              " 'بزرگت',\n",
              " 'بزرگتر',\n",
              " 'بزرگترین',\n",
              " 'بزنه',\n",
              " 'بس',\n",
              " 'بسازه',\n",
              " 'بسته',\n",
              " 'بسوزه',\n",
              " 'بسیار',\n",
              " 'بشاش',\n",
              " 'بشکنه',\n",
              " 'بشین',\n",
              " 'بشینه',\n",
              " 'بعداز',\n",
              " 'بعدتر',\n",
              " 'بعدش',\n",
              " 'بعدیش',\n",
              " 'بعید',\n",
              " 'بغلی',\n",
              " 'بقول',\n",
              " 'بلاخره',\n",
              " 'بلاک',\n",
              " 'بلاکم',\n",
              " 'بلدی',\n",
              " 'بلند',\n",
              " 'بلندتر',\n",
              " 'بلکم',\n",
              " 'بموقع',\n",
              " 'بمونه',\n",
              " 'بنداز',\n",
              " 'بندازین',\n",
              " 'بنظرم',\n",
              " 'به',\n",
              " 'بهتر',\n",
              " 'بهزودی',\n",
              " 'بهش',\n",
              " 'بهشون',\n",
              " 'بهمون',\n",
              " 'بهونه',\n",
              " 'بودنه',\n",
              " 'بودولی',\n",
              " 'بودیمیر',\n",
              " 'بودین',\n",
              " 'بپا',\n",
              " 'بچه',\n",
              " 'بچگانه',\n",
              " 'بی',\n",
              " 'بیاد',\n",
              " 'بیاره',\n",
              " 'بیامرزه',\n",
              " 'بیای',\n",
              " 'بیاین',\n",
              " 'بیجا',\n",
              " 'بیجهت',\n",
              " 'بیحوصله',\n",
              " 'بیخود',\n",
              " 'بیخودی',\n",
              " 'بیخیال',\n",
              " 'بیدار',\n",
              " 'بیدریغ',\n",
              " 'بیدلیل',\n",
              " 'بیراه',\n",
              " 'بیرحمانه',\n",
              " 'بیرونه',\n",
              " 'بیسار',\n",
              " 'بیشتر',\n",
              " 'بیشتراز',\n",
              " 'بیشتره',\n",
              " 'بیشرمانه',\n",
              " 'بیصدا',\n",
              " 'بیطرفانه',\n",
              " 'بیفته',\n",
              " 'بیماره',\n",
              " 'بینشون',\n",
              " 'بینمون',\n",
              " 'بینهایت',\n",
              " 'بیهوده',\n",
              " 'بیوفته',\n",
              " 'بیوقفه',\n",
              " 'بیچارهتر',\n",
              " 'بە',\n",
              " 'تازه',\n",
              " 'تلختر',\n",
              " 'تلفنی',\n",
              " 'تند',\n",
              " 'تندتر',\n",
              " 'تنها',\n",
              " 'تنگ',\n",
              " 'تو',\n",
              " 'توئیتر',\n",
              " 'توخونه',\n",
              " 'تورا',\n",
              " 'توش',\n",
              " 'توعیتر',\n",
              " 'تومنه',\n",
              " 'تون',\n",
              " 'تونسته',\n",
              " 'تونه',\n",
              " 'توهینه',\n",
              " 'تویتر',\n",
              " 'توییتر',\n",
              " 'جابجا',\n",
              " 'جالبتر',\n",
              " 'جانانه',\n",
              " 'جاودانه',\n",
              " 'جدا',\n",
              " 'جداگانه',\n",
              " 'جدی',\n",
              " 'جدیتر',\n",
              " 'جلو',\n",
              " 'جلوتر',\n",
              " 'حتمی',\n",
              " 'حتى',\n",
              " 'حرفهای',\n",
              " 'حرومزاده',\n",
              " 'حسابی',\n",
              " 'حیران',\n",
              " 'حیف',\n",
              " 'خاصه',\n",
              " 'خالصانه',\n",
              " 'خب',\n",
              " 'ختنه',\n",
              " 'خداییش',\n",
              " 'خسته',\n",
              " 'خفنه',\n",
              " 'خلاصه',\n",
              " 'خلاصهتر',\n",
              " 'خندوانه',\n",
              " 'خنک',\n",
              " 'خوابیده',\n",
              " 'خوب',\n",
              " 'خوبا',\n",
              " 'خوبهولی',\n",
              " 'خودبرتر',\n",
              " 'خودتونو',\n",
              " 'خودسرانه',\n",
              " 'خودشون',\n",
              " 'خودشونو',\n",
              " 'خودمون',\n",
              " 'خودکار',\n",
              " 'خوردنه',\n",
              " 'خوش',\n",
              " 'خوشبخت',\n",
              " 'خوشتر',\n",
              " 'خوشمزه',\n",
              " 'خوشگلا',\n",
              " 'خوشگله',\n",
              " 'خونمون',\n",
              " 'خونه',\n",
              " 'خیر',\n",
              " 'خیره',\n",
              " 'خیزان',\n",
              " 'خیلى',\n",
              " 'خیییلی',\n",
              " 'خییییلی',\n",
              " 'دائم',\n",
              " 'دادنه',\n",
              " 'داره',\n",
              " 'داروخونه',\n",
              " 'داشتنه',\n",
              " 'داشتین',\n",
              " 'داغون',\n",
              " 'داغونه',\n",
              " 'داوطلبانه',\n",
              " 'دایم',\n",
              " 'دخترا',\n",
              " 'دخترونه',\n",
              " 'در',\n",
              " 'درآستانه',\n",
              " 'درازمدت',\n",
              " 'دربست',\n",
              " 'درجا',\n",
              " 'درحق',\n",
              " 'درخصوص',\n",
              " 'درست',\n",
              " 'درسته',\n",
              " 'درمانده',\n",
              " 'دروغی',\n",
              " 'دقیق',\n",
              " 'دقیقتر',\n",
              " 'دلبرانه',\n",
              " 'دلمون',\n",
              " 'دلگیر',\n",
              " 'دهنشون',\n",
              " 'دهنه',\n",
              " 'دوبار',\n",
              " 'دوباره',\n",
              " 'دوتایی',\n",
              " 'دورتر',\n",
              " 'دوساله',\n",
              " 'دوست',\n",
              " 'دوستام',\n",
              " 'دوستانه',\n",
              " 'دولته',\n",
              " 'دوماه',\n",
              " 'دونسته',\n",
              " 'دونفره',\n",
              " 'دونفری',\n",
              " 'دونه',\n",
              " 'دوگانه',\n",
              " 'دیدین',\n",
              " 'دیمی',\n",
              " 'دیونه',\n",
              " 'دیوونه',\n",
              " 'دیکه',\n",
              " 'دیگه',\n",
              " 'دییر',\n",
              " 'راحت',\n",
              " 'راحتتر',\n",
              " 'راست',\n",
              " 'راستی',\n",
              " 'رو',\n",
              " 'رود',\n",
              " 'روشنه',\n",
              " 'رک',\n",
              " 'ریالی',\n",
              " 'ریاکارانه',\n",
              " 'ریشهای',\n",
              " 'ریلکس',\n",
              " 'زاده',\n",
              " 'زار',\n",
              " 'زاید',\n",
              " 'زشت',\n",
              " 'زشته',\n",
              " 'زنده',\n",
              " 'زندگیتون',\n",
              " 'زندگیمون',\n",
              " 'زنه',\n",
              " 'زنونه',\n",
              " 'زود',\n",
              " 'زودتر',\n",
              " 'زیاد',\n",
              " 'زیادتر',\n",
              " 'زیاده',\n",
              " 'زیادی',\n",
              " 'زیبا',\n",
              " 'زیباتر',\n",
              " 'زیرکانه',\n",
              " 'سابق',\n",
              " 'ساختمون',\n",
              " 'ساخته',\n",
              " 'ساده',\n",
              " 'سادهتر',\n",
              " 'ساعته',\n",
              " 'سالته',\n",
              " 'سالشونه',\n",
              " 'سالم',\n",
              " 'سالمتر',\n",
              " 'ساله',\n",
              " 'سالگی',\n",
              " 'سالیانه',\n",
              " 'سامانه',\n",
              " 'ساکت',\n",
              " 'سخت',\n",
              " 'سختتر',\n",
              " 'سخته',\n",
              " 'سرانه',\n",
              " 'سربالا',\n",
              " 'سرحال',\n",
              " 'سردتر',\n",
              " 'سرزده',\n",
              " 'سرمون',\n",
              " 'سرنگون',\n",
              " 'سرکوب',\n",
              " 'سرکوچه',\n",
              " 'سریع',\n",
              " 'سریعتر',\n",
              " 'سطحی',\n",
              " 'سینگلا',\n",
              " 'شاد',\n",
              " 'شبا',\n",
              " 'شتابزده',\n",
              " 'شجاعانه',\n",
              " 'شدنه',\n",
              " 'شده',\n",
              " 'شفاف',\n",
              " 'شوخی',\n",
              " 'شیرین',\n",
              " 'صادقانه',\n",
              " 'صبحی',\n",
              " 'صبونه',\n",
              " 'صحیح',\n",
              " 'صریح',\n",
              " 'صمیمانه',\n",
              " 'صمیمی',\n",
              " 'ضعیف',\n",
              " 'طبیعی',\n",
              " 'طلبکارانه',\n",
              " 'عاجزانه',\n",
              " 'عادلانه',\n",
              " 'عاشقانه',\n",
              " 'عاشقونه',\n",
              " 'عاقلانه',\n",
              " 'عالی',\n",
              " 'عجب',\n",
              " 'عجیب',\n",
              " 'عقب',\n",
              " 'علنی',\n",
              " 'عمام',\n",
              " 'عمرا',\n",
              " 'عمیقتر',\n",
              " 'عنه',\n",
              " 'عه',\n",
              " 'عوضی',\n",
              " 'غریبانه',\n",
              " 'غلط',\n",
              " 'غمگین',\n",
              " 'غیرقابل',\n",
              " 'غیرمستقیم',\n",
              " 'فانه',\n",
              " 'فراتر',\n",
              " 'فراوان',\n",
              " 'فعالانه',\n",
              " 'فلانه',\n",
              " 'فود',\n",
              " 'فوری',\n",
              " 'فوقالعاده',\n",
              " 'فیلتر',\n",
              " 'قاطعانه',\n",
              " 'قانونی',\n",
              " 'قاچاقی',\n",
              " 'قایم',\n",
              " 'قبور',\n",
              " 'قدیما',\n",
              " 'قراره',\n",
              " 'قربون',\n",
              " 'قشنگ',\n",
              " 'قوی',\n",
              " 'قویتر',\n",
              " 'لا',\n",
              " 'لاقل',\n",
              " 'مارا',\n",
              " 'ماشالا',\n",
              " 'مامانه',\n",
              " 'ماهانه',\n",
              " 'ماهه',\n",
              " 'ماهیانه',\n",
              " 'مبادا',\n",
              " 'متعصبانه',\n",
              " 'متمدنانه',\n",
              " 'مثبت',\n",
              " 'مثله',\n",
              " 'مجانی',\n",
              " 'مجدد',\n",
              " 'محترمانه',\n",
              " 'محرمانه',\n",
              " 'محکم',\n",
              " 'مخفیانه',\n",
              " 'مدام',\n",
              " 'مرتب',\n",
              " 'مردا',\n",
              " 'مردانه',\n",
              " 'مردونه',\n",
              " 'مستقل',\n",
              " 'مستقیم',\n",
              " 'مسیحا',\n",
              " 'مشتاق',\n",
              " 'مشخصه',\n",
              " 'مظلومانه',\n",
              " 'مفت',\n",
              " 'مفصل',\n",
              " 'مقصر',\n",
              " 'ممکنه',\n",
              " 'من',\n",
              " 'منصفانه',\n",
              " 'منطقی',\n",
              " 'منو',\n",
              " 'مهربونه',\n",
              " 'مهم',\n",
              " 'مهمون',\n",
              " 'مودبانه',\n",
              " 'موذیانه',\n",
              " 'موفق',\n",
              " 'مکرر',\n",
              " 'مگه',\n",
              " 'میتونه',\n",
              " 'میکنه',\n",
              " 'نا',\n",
              " 'ناامید',\n",
              " 'ناجوانمردانه',\n",
              " 'ناخواسته',\n",
              " 'ناخودآگاه',\n",
              " 'ناخوداگاه',\n",
              " 'نادرست',\n",
              " 'ناشیانه',\n",
              " 'ناگزیر',\n",
              " 'نبینه',\n",
              " 'نتونه',\n",
              " 'نخونه',\n",
              " 'ندونه',\n",
              " 'نرم',\n",
              " 'نره',\n",
              " 'نزدیکتر',\n",
              " 'نزنه',\n",
              " 'نشونه',\n",
              " 'نفره',\n",
              " 'نمیبینه',\n",
              " 'نمیتونه',\n",
              " 'نمیدونه',\n",
              " 'نمیمونه',\n",
              " 'نمیکنه',\n",
              " 'نوتلا',\n",
              " 'نی',\n",
              " 'نیازه',\n",
              " 'نیستفقط',\n",
              " 'نیک',\n",
              " 'هاتون',\n",
              " 'هاشون',\n",
              " 'هاى',\n",
              " 'هایش',\n",
              " 'هرآنچه',\n",
              " 'هربار',\n",
              " 'هرجا',\n",
              " 'هرروز',\n",
              " 'هرزه',\n",
              " 'هرموقع',\n",
              " 'هروقت',\n",
              " 'هرچی',\n",
              " 'هرکس',\n",
              " 'هرکی',\n",
              " 'هرگونه',\n",
              " 'هس',\n",
              " 'هم',\n",
              " 'همانطور',\n",
              " 'همتون',\n",
              " 'همجنسگرا',\n",
              " 'همخونه',\n",
              " 'همراه',\n",
              " 'همزمان',\n",
              " 'همشون',\n",
              " 'هممون',\n",
              " 'همهش',\n",
              " 'همون',\n",
              " 'همونجا',\n",
              " 'همونقدر',\n",
              " 'همونه',\n",
              " 'همچون',\n",
              " 'همچین',\n",
              " 'همینجا',\n",
              " 'همینطور',\n",
              " 'همینطوره',\n",
              " 'همینقدر',\n",
              " 'همینه',\n",
              " 'هنرمندانه',\n",
              " 'هنوزم',\n",
              " 'هه',\n",
              " 'هی',\n",
              " 'هیشکی',\n",
              " 'هیچوقت',\n",
              " 'هیچکدوم',\n",
              " 'هیچکس',\n",
              " 'هیچکی',\n",
              " 'هیچی',\n",
              " 'و',\n",
              " 'وارونه',\n",
              " 'واستون',\n",
              " 'واضح',\n",
              " 'واضحتر',\n",
              " 'واقعی',\n",
              " 'وای',\n",
              " 'وحشتناک',\n",
              " 'وحشیانه',\n",
              " 'وقیحانه',\n",
              " '٪',\n",
              " 'پائین',\n",
              " 'پابرهنه',\n",
              " 'پاچه',\n",
              " 'پاکم',\n",
              " 'پایین',\n",
              " 'پایینتر',\n",
              " 'پایینه',\n",
              " 'پر',\n",
              " 'پرمدعا',\n",
              " 'پز',\n",
              " 'پستونیوز',\n",
              " 'پسرا',\n",
              " 'پسرونه',\n",
              " 'پشیمون',\n",
              " 'پفیوز',\n",
              " 'پنداری',\n",
              " 'پنهانی',\n",
              " 'پیاده',\n",
              " 'پیروزمندانه',\n",
              " 'پیشتر',\n",
              " 'پیوسته',\n",
              " 'چ',\n",
              " 'چارخونه',\n",
              " 'چاقتر',\n",
              " 'چجور',\n",
              " 'چطوری',\n",
              " 'چقد',\n",
              " 'چقدرم',\n",
              " 'چقدره',\n",
              " 'چند',\n",
              " 'چندبار',\n",
              " 'چندباره',\n",
              " 'چندسال',\n",
              " 'چندساله',\n",
              " 'چندماه',\n",
              " 'چونه',\n",
              " 'چى',\n",
              " 'چکار',\n",
              " 'چی',\n",
              " 'چیزا',\n",
              " 'چیزه',\n",
              " 'چیزى',\n",
              " 'چیکار',\n",
              " 'ک',\n",
              " 'کارخونه',\n",
              " 'کامل',\n",
              " 'کتابخونه',\n",
              " 'کج',\n",
              " 'کردنه',\n",
              " 'کص',\n",
              " 'کفتار',\n",
              " 'کفتر',\n",
              " 'کلی',\n",
              " 'کم',\n",
              " 'کمتر',\n",
              " 'کمی',\n",
              " 'کنارم',\n",
              " 'کنکمتر',\n",
              " 'که',\n",
              " 'کوتاهه',\n",
              " 'کودکانه',\n",
              " 'کورکورانه',\n",
              " 'کون',\n",
              " 'کونده',\n",
              " 'کى',\n",
              " 'کپشن',\n",
              " 'کی',\n",
              " 'کیر',\n",
              " 'کیرم',\n",
              " 'کە',\n",
              " 'گانه',\n",
              " 'گدا',\n",
              " 'گرا',\n",
              " 'گرایانه',\n",
              " 'گرسنه',\n",
              " 'گرفته',\n",
              " 'گرم',\n",
              " 'گرنه',\n",
              " 'گرون',\n",
              " 'گرونتر',\n",
              " 'گرونه',\n",
              " 'گریان',\n",
              " 'گزینشی',\n",
              " 'گشنه',\n",
              " 'گه',\n",
              " 'گهی',\n",
              " 'گوز',\n",
              " 'گویا',\n",
              " 'ی',\n",
              " 'یجا',\n",
              " 'یحتمل',\n",
              " 'یدونه',\n",
              " 'یه',\n",
              " 'یواشتر',\n",
              " 'یواشکی',\n",
              " 'یوتیوب',\n",
              " 'یچی',\n",
              " 'یچیز',\n",
              " 'یکبار',\n",
              " 'یکباره',\n",
              " 'یکجا',\n",
              " 'یکجور',\n",
              " 'یکجوری',\n",
              " 'یکسال',\n",
              " 'یکسان',\n",
              " 'یکسانه',\n",
              " 'یکسره',\n",
              " 'یکسری',\n",
              " 'یکسو',\n",
              " 'یکصدا',\n",
              " 'یکطرفه',\n",
              " 'یکماه',\n",
              " 'یکماهه',\n",
              " 'یکه',\n",
              " 'یکى',\n",
              " 'یکپارچه',\n",
              " 'یکی',\n",
              " 'یکیش',\n",
              " 'یکیشون',\n",
              " '…اگه',\n",
              " '…بیشتر',\n",
              " '…خسته',\n",
              " '…خیلی',\n",
              " '…وقتی',\n",
              " '…ولی',\n",
              " '…چه',\n",
              " 'ﺑﺎ',\n",
              " '😂',\n",
              " '😂😂',\n",
              " '😂😂😂',\n",
              " '😂😂😂😂',\n",
              " '😄']"
            ]
          },
          "metadata": {
            "tags": []
          },
          "execution_count": 134
        }
      ]
    },
    {
      "cell_type": "code",
      "metadata": {
        "id": "xBtOHqldwtxH"
      },
      "source": [
        "df.to_csv(output_dir)\n",
        "overlap.to_csv(overlap_dir)"
      ],
      "execution_count": 131,
      "outputs": []
    }
  ]
}
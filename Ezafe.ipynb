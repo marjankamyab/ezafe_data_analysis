{
 "cells": [
  {
   "cell_type": "code",
   "execution_count": 1,
   "id": "chemical-awareness",
   "metadata": {},
   "outputs": [],
   "source": [
    "import os\n",
    "import pandas as pd\n",
    "from typing import *\n",
    "from collections import defaultdict"
   ]
  },
  {
   "cell_type": "code",
   "execution_count": null,
   "id": "intended-letter",
   "metadata": {},
   "outputs": [],
   "source": [
    "main_dir = '/Users/marjan/Desktop/project/'\n",
    "UD_dir = os.path.join(main_dir, 'data', 'UD_Persian-PerDT', 'fa_perdt-ud-train.conllu')\n",
    "persian_adj_dir = os.path.join(main_dir, 'output', 'Persian', 'persian_adjs.csv')\n",
    "persian_adv_dir = os.path.join(main_dir, 'output', 'Persian', 'persian_advs.csv')\n",
    "persian_intersection_dir = os.path.join(main_dir, 'output', 'Persian', 'persian_inter.csv')"
   ]
  },
  {
   "cell_type": "code",
   "execution_count": null,
   "id": "religious-upset",
   "metadata": {},
   "outputs": [],
   "source": [
    "def ADJ_ADV_intersection(adj_df: pd.DataFrame, adv_df: pd.DataFrame) -> pd.DataFrame:\n",
    "    intersection = adv_df[['adv_count', 0]][adv_df.index.isin(adj_df.index)]\n",
    "    intersection.rename(columns={0: 'adv_example'}, inplace=True)\n",
    "    intersection.insert(0, 'adj_count', 0)\n",
    "    intersection.insert(2, 'adj_example', None)\n",
    "\n",
    "    for token in intersection.index:\n",
    "        intersection.loc[token, 'adj_count'] = adj_df.loc[token, 'adj_count']\n",
    "        intersection.loc[token, 'adj_example'] = adj_df.loc[token, 1]\n",
    "\n",
    "    return intersection"
   ]
  },
  {
   "cell_type": "code",
   "execution_count": null,
   "id": "boolean-committee",
   "metadata": {},
   "outputs": [],
   "source": [
    "def create_df(dct: Dict[str, List[str]], category='adj') -> pd.DataFrame:\n",
    "    count_dct = {}\n",
    "    for token in dct:\n",
    "        count_dct[token] = len(dct[token])\n",
    "\n",
    "    df = pd.DataFrame.from_dict(dct, orient='Index')\n",
    "    df.insert(0, category+'_count', 0)\n",
    "\n",
    "    for token in dct:\n",
    "        df.loc[token, category + '_count'] = count_dct[token]\n",
    "\n",
    "    return df"
   ]
  },
  {
   "cell_type": "code",
   "execution_count": null,
   "id": "hazardous-berlin",
   "metadata": {},
   "outputs": [],
   "source": []
  },
  {
   "cell_type": "code",
   "execution_count": null,
   "id": "nominated-dallas",
   "metadata": {},
   "outputs": [],
   "source": [
    "def get_UD_data(dir: str) -> (Dict[str, List[str]], Dict[str, List[str]]):\n",
    "    with open(dir) as file:\n",
    "        lines = file.readlines()\n",
    "\n",
    "        ADJs = defaultdict(list)\n",
    "        ADVs = defaultdict(list)\n",
    "        text = []\n",
    "        for i, line in enumerate(lines):\n",
    "            line = line.split()\n",
    "            if line and i > 0:\n",
    "\n",
    "                if line[0] == '#' and line[1] == 'text':\n",
    "                    text = line[3:]\n",
    "\n",
    "                if line[0].isdigit():\n",
    "                    token = line[1]\n",
    "                    tag = line[3]\n",
    "\n",
    "                    if tag == 'ADJ':\n",
    "                        ADJs[token] += [' '.join(text)]\n",
    "                    elif tag == 'ADV':\n",
    "                        ADVs[token] += [' '.join(text)]\n",
    "    return ADJs, ADVs"
   ]
  },
  {
   "cell_type": "code",
   "execution_count": null,
   "id": "victorian-prophet",
   "metadata": {},
   "outputs": [],
   "source": [
    "persian_adjs, persian_advs = get_UD_data(UD_dir)"
   ]
  },
  {
   "cell_type": "code",
   "execution_count": null,
   "id": "talented-heather",
   "metadata": {},
   "outputs": [],
   "source": [
    "persian_adj_df = create_df(persian_adjs)\n",
    "persian_adv_df = create_df(persian_advs, category='adv')"
   ]
  },
  {
   "cell_type": "code",
   "execution_count": null,
   "id": "infectious-pavilion",
   "metadata": {},
   "outputs": [],
   "source": [
    "persian_adj_df.to_csv(persian_adj_dir)\n",
    "persian_adv_df.to_csv(persian_adv_dir)"
   ]
  },
  {
   "cell_type": "code",
   "execution_count": null,
   "id": "permanent-essex",
   "metadata": {},
   "outputs": [],
   "source": [
    "persian_intersection = ADJ_ADV_intersection(persian_adj_df, persian_adv_df)\n",
    "persian_intersection.to_csv(persian_intersection_dir)"
   ]
  }
 ],
 "metadata": {
  "kernelspec": {
   "display_name": "Python 3",
   "language": "python",
   "name": "python3"
  },
  "language_info": {
   "codemirror_mode": {
    "name": "ipython",
    "version": 3
   },
   "file_extension": ".py",
   "mimetype": "text/x-python",
   "name": "python",
   "nbconvert_exporter": "python",
   "pygments_lexer": "ipython3",
   "version": "3.8.5"
  }
 },
 "nbformat": 4,
 "nbformat_minor": 5
}
